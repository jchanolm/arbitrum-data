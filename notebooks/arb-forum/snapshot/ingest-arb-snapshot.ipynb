{
 "cells": [
  {
   "cell_type": "code",
   "execution_count": null,
   "id": "5f733032-f22e-4197-889a-62a12e596e7a",
   "metadata": {},
   "outputs": [],
   "source": [
    "import requests\n",
    "import pandas as pd\n",
    "import json\n",
    "import os\n",
    "import re\n",
    "\n",
    "from dotenv import load_dotenv\n",
    "from neo4j import GraphDatabase\n",
    "\n",
    "\n",
    "load_dotenv()\n",
    "\n",
    "\n",
    "NEO4J_URI = os.getenv('NEO4J_URI')\n",
    "NEO4J_PASS = os.getenv('NEO4J_PASS')\n",
    "neo4j_client = GraphDatabase.driver(NEO4J_URI, auth=('neo4j', NEO4J_PASS))\n",
    "retrieval = \"InitialIngest\"\n",
    "\n",
    "def execute_query(query, params=None, neo4j=neo4j_client):\n",
    "    with neo4j_client.session() as session:\n",
    "        result = session.run(query, parameters=params)\n",
    "        # Convert the result to a DataFrame\n",
    "        records = [record.data() for record in result]\n",
    "        return pd.DataFrame(records)\n"
   ]
  },
  {
   "cell_type": "code",
   "execution_count": null,
   "id": "3655733a-c64e-4137-b00f-566c99a79a31",
   "metadata": {},
   "outputs": [],
   "source": [
    "##\n",
    "def call_snapshot_api(query, snapshot_url=\"https://hub.snapshot.org/graphql\", counter=0):\n",
    "    if counter > 10:\n",
    "        raise Exception(\"Max retries exceeded.\")\n",
    "    response = requests.post(snapshot_url, json={\"query\": query})\n",
    "    if response.status_code == 504:\n",
    "        # Handle Gateway Timeout\n",
    "        return make_api_call(query, snapshot_url, counter=counter + 1)\n",
    "    data = response.json()\n",
    "    if \"errors\" in data:\n",
    "        raise Exception(\"Error in API response: {}\".format(data[\"errors\"]))\n",
    "    return data[\"data\"]\n",
    "\n",
    "\n",
    "def clean_text(text):\n",
    "    text = re.sub(r\"[“”]\", '\"', text)  # Replace smart double quotes\n",
    "    text = re.sub(r\"[‘’]\", \"'\", text)  # Replace smart single quotes\n",
    "    text = re.sub(r\"[—–]\", \"-\", text)\n",
    "    text = re.sub(r\"[^\\x00-\\x7F]+\", \"\", text)\n",
    "    \n",
    "    return text"
   ]
  },
  {
   "cell_type": "code",
   "execution_count": null,
   "id": "f4a8b45b-5e15-4e91-87e4-6486ea1ac114",
   "metadata": {},
   "outputs": [],
   "source": [
    "arb_space_id = \"arbitrumfoundation.eth\"  # Replace with the actual space ID\n",
    "\n",
    "spaces_query = f\"\"\"\n",
    "{{\n",
    "    space(id: \"{arb_space_id}\") {{\n",
    "        id\n",
    "        name\n",
    "        about\n",
    "        avatar\n",
    "        website\n",
    "        twitter\n",
    "        github\n",
    "        network\n",
    "        symbol\n",
    "        strategies {{\n",
    "            name\n",
    "            params\n",
    "        }}\n",
    "        admins\n",
    "        members\n",
    "    }}\n",
    "}}\n",
    "\"\"\" \n",
    "\n",
    "proposals_query = f\"\"\"\n",
    "{{\n",
    "    proposals(\n",
    "        where: {{\n",
    "            space_in: [\"{arb_space_id}\"]\n",
    "        }},\n",
    "        first: 1000\n",
    "    ) {{\n",
    "        id\n",
    "        title\n",
    "        body\n",
    "        choices\n",
    "        start\n",
    "        end\n",
    "        state\n",
    "        author\n",
    "    }}\n",
    "}}\n",
    "\"\"\" \n",
    "\n",
    "votes_query = f\"\"\"\n",
    "{{\n",
    "    votes(\n",
    "        where: {{\n",
    "            proposal: \"{arb_space_id}\"\n",
    "        }},\n",
    "        first: 10\n",
    "    ) {{\n",
    "        id\n",
    "        voter\n",
    "        choice\n",
    "    }}\n",
    "}}\n",
    "\"\"\""
   ]
  },
  {
   "cell_type": "code",
   "execution_count": null,
   "id": "70b9a27d-f19f-4e38-990a-c29392d0b5ae",
   "metadata": {},
   "outputs": [],
   "source": [
    "space_data = make_api_call(spaces_query)\n",
    "print(json.dumps(space_data, indent=4))\n"
   ]
  },
  {
   "cell_type": "code",
   "execution_count": null,
   "id": "45532b5c-663f-48f1-9df3-c55edfe407f3",
   "metadata": {},
   "outputs": [],
   "source": [
    "## create snapshot space\n",
    "\n",
    "params = {\n",
    "    'spaceId': space_data['space']['id'],\n",
    "    'name': space_data['space']['name'],\n",
    "    'website': space_data['space']['website'],\n",
    "    'twitter': space_data['space']['twitter'],\n",
    "    'strategyToken': space_data['space']['strategies'][0]['params']['address']\n",
    "}\n",
    "\n",
    "space_query = \"\"\"\n",
    "    match (entity:Entity {name: \"Arbitrum Foundation\"}) \n",
    "    with entity\n",
    "    merge (space:Snapshot:Space {spaceId: $spaceId}) \n",
    "    set space.name = $name\n",
    "    set space.website = $website\n",
    "    set space.twitter = $twitter \n",
    "    set space.strategyToken = $strategyToken\n",
    "    with entity, space \n",
    "    merge (entity)-[r:ACCOUNT]->(space)\n",
    "    return entity, r, space\n",
    "\"\"\"\n",
    "\n",
    "execute_query(space_query, params)"
   ]
  },
  {
   "cell_type": "code",
   "execution_count": null,
   "id": "bd6465f8-88f8-445d-8f03-4d09679d484c",
   "metadata": {},
   "outputs": [],
   "source": [
    "# dump"
   ]
  },
  {
   "cell_type": "code",
   "execution_count": null,
   "id": "bd682293-6fdc-457c-9ca8-ef1d520f80ec",
   "metadata": {
    "scrolled": true
   },
   "outputs": [],
   "source": [
    "proposals_data = make_api_call(proposals_query)\n",
    "\n",
    "proposals_data['proposals'][0].keys()"
   ]
  },
  {
   "cell_type": "code",
   "execution_count": null,
   "id": "d1f94f5c-f935-4029-acae-8cdd3a4c3a87",
   "metadata": {},
   "outputs": [],
   "source": [
    "proposals_data_df = pd.DataFrame(proposals_data['proposals'])"
   ]
  },
  {
   "cell_type": "code",
   "execution_count": null,
   "id": "876c8f24-c2e6-4fb7-8d20-4eb49f421c90",
   "metadata": {},
   "outputs": [],
   "source": [
    "proposals_data_df.to_csv(\"snapshot-scraped-data/arb-snapshot-proposals-20240303.csv\")"
   ]
  },
  {
   "cell_type": "code",
   "execution_count": null,
   "id": "ebf987bb-dace-401d-918a-28ee465c2afe",
   "metadata": {},
   "outputs": [],
   "source": [
    "counter = 0 \n",
    "total = len(proposals_data['proposals'])\n",
    "\n",
    "## create proposals\n",
    "for i in proposals_data['proposals']:\n",
    "    counter += 1\n",
    "    print(f\"Ingesting proposal {str(counter)} out of {str(total)}...\")\n",
    "    \n",
    "    name = clean_text(i['title'])\n",
    "    text = clean_text(i['body'])\n",
    "    authorAddress = i['author'].lower()\n",
    "    props_params = {\n",
    "        'id': i['id'],\n",
    "        'name': i['title'], \n",
    "        'startDt': i['start'],\n",
    "        'endDt': i['end'],\n",
    "        'choices': i['choices'], \n",
    "        'name': name, \n",
    "        'text': text,\n",
    "        'authorAddress': authorAddress\n",
    "    }\n",
    "    props_query = \"\"\"\n",
    "    merge (prop:Snapshot:Proposal {id: $id})\n",
    "    set prop.name = $name\n",
    "    set prop.text = $text\n",
    "    set prop.startDt = $startDt\n",
    "    set prop.endDt = $endDt\n",
    "    set prop.choices = $choices\n",
    "    \"\"\"\n",
    "    execute_query(props_query, props_params)"
   ]
  },
  {
   "cell_type": "code",
   "execution_count": null,
   "id": "724f6076-1525-47ab-8551-55cda592f046",
   "metadata": {},
   "outputs": [],
   "source": [
    "### connect\n",
    "\n",
    "execute_query(\"\"\"match (prop:Proposal) match (space:Space)\n",
    "with prop, space\n",
    "merge (space)-[r:PROPOSAL]->(proposal)\"\"\")\n",
    "\n"
   ]
  },
  {
   "cell_type": "code",
   "execution_count": null,
   "id": "85764a64-b638-4c9e-836f-45e9dc502fe6",
   "metadata": {},
   "outputs": [],
   "source": [
    "## create and link authors\n",
    "counter = 0 \n",
    "total = len(proposals_data['proposals'])\n",
    "\n",
    "## create proposals\n",
    "for i in proposals_data['proposals']:\n",
    "    counter += 1\n",
    "    print(f\"Ingesting record {str(counter)} out of {str(total)}...\")\n",
    "    \n",
    "    authorAddress = i['author'].lower()\n",
    "\n",
    "    walletParams = {\n",
    "        'authorAddress' : authorAddress,\n",
    "        'proposalId': i['id']\n",
    "    }\n",
    "\n",
    "    walletsQuery = \"\"\"\n",
    "    merge (wallet:Wallet {address: $authorAddress}) \n",
    "    with wallet \n",
    "    match (proposal:Proposal:Snapshot {id: $proposalId}) \n",
    "    with wallet, proposal \n",
    "    merge (wallet)-[r:AUTHOR]->(proposal)\n",
    "    \"\"\"\n",
    "    execute_query(walletsQuery, walletParams)"
   ]
  },
  {
   "cell_type": "code",
   "execution_count": null,
   "id": "b1e2e678-d813-4961-8807-ac2e2b3ad91b",
   "metadata": {},
   "outputs": [],
   "source": [
    "## cool voters"
   ]
  },
  {
   "cell_type": "code",
   "execution_count": null,
   "id": "75992f3b-f8f0-4fdd-9c67-bdad7f625f79",
   "metadata": {},
   "outputs": [],
   "source": [
    "def get_votes_for_proposals(proposals_response):\n",
    "    votes_query_template = \"\"\"\n",
    "    {{\n",
    "        votes (\n",
    "            first: 1000,\n",
    "            where: {{\n",
    "                proposal_in: {proposal_ids}\n",
    "            }}\n",
    "        ) {{\n",
    "            id\n",
    "            voter\n",
    "            choice\n",
    "            proposal {{\n",
    "                id\n",
    "            }}\n",
    "        }}\n",
    "    }}\n",
    "    \"\"\"\n",
    "    # Assuming proposals_response is the full response from the proposals query\n",
    "    # and contains a list of proposals under ['data']['proposals']\n",
    "    proposal_ids = [proposal[\"id\"] for proposal in proposals_response['proposals']]\n",
    "    votes = []\n",
    "    for proposal_id in proposal_ids:\n",
    "        query = votes_query_template.format(proposal_ids=json.dumps([proposal_id]))\n",
    "        response = requests.post(\"https://hub.snapshot.org/graphql\", json={\"query\": query})\n",
    "        if response.status_code == 200:\n",
    "            data = response.json()[\"data\"][\"votes\"]\n",
    "            votes.extend(data)\n",
    "    return votes\n",
    "\n",
    "proposal_votes = get_votes_for_proposals(proposals_data)"
   ]
  },
  {
   "cell_type": "code",
   "execution_count": null,
   "id": "a1b6f8be-19d3-46e0-89c3-f77e1c762bae",
   "metadata": {},
   "outputs": [],
   "source": [
    "len(proposal_votes)"
   ]
  },
  {
   "cell_type": "code",
   "execution_count": null,
   "id": "e275addb-bb5c-4545-8245-0197956d7d73",
   "metadata": {},
   "outputs": [],
   "source": [
    "proposal_votes[0]"
   ]
  },
  {
   "cell_type": "code",
   "execution_count": null,
   "id": "d12f5547-61e6-4fdb-9675-0e1af47792f7",
   "metadata": {},
   "outputs": [],
   "source": [
    "## create wallets\n",
    "createWallets = \"\"\"\n",
    "CALL {\n",
    "  LOAD CSV WITH HEADERS FROM \n",
    "  'https://raw.githubusercontent.com/jchanolm/arbitrum-data/main/notebooks/arb-forum/snapshot-scraped-data/arb-snapshot-votes.csv' AS row\n",
    "  MERGE (wallet:Wallet {address: row.voter})\n",
    "}\n",
    "IN TRANSACTIONS OF 500 ROWS;\n",
    "\"\"\"\n",
    "\n",
    "execute_query(createWallets)"
   ]
  },
  {
   "cell_type": "code",
   "execution_count": null,
   "id": "52048ffc-5df8-48bd-adab-41ba495c0084",
   "metadata": {},
   "outputs": [],
   "source": [
    "proposal_votes_df = pd.DataFrame(proposal_votes)"
   ]
  },
  {
   "cell_type": "code",
   "execution_count": null,
   "id": "a5ebe270-a4b1-4d50-ab3f-b8770cb0f6fc",
   "metadata": {},
   "outputs": [],
   "source": [
    "proposal_votes_df.to_csv('snapshot-scraped-data/arb-snapshot-votes.csv')"
   ]
  }
 ],
 "metadata": {
  "kernelspec": {
   "display_name": "Python 3 (ipykernel)",
   "language": "python",
   "name": "python3"
  },
  "language_info": {
   "codemirror_mode": {
    "name": "ipython",
    "version": 3
   },
   "file_extension": ".py",
   "mimetype": "text/x-python",
   "name": "python",
   "nbconvert_exporter": "python",
   "pygments_lexer": "ipython3",
   "version": "3.10.0"
  }
 },
 "nbformat": 4,
 "nbformat_minor": 5
}
