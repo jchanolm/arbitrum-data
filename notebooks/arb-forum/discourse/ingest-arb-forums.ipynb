{
 "cells": [
  {
   "cell_type": "code",
   "execution_count": 10,
   "id": "24f65dee-a347-40ae-bff8-da16248d69c9",
   "metadata": {},
   "outputs": [
    {
     "data": {
      "text/plain": [
       "True"
      ]
     },
     "execution_count": 10,
     "metadata": {},
     "output_type": "execute_result"
    }
   ],
   "source": [
    "import os \n",
    "import pandas as pd\n",
    "import time\n",
    "import requests \n",
    "import neo4j\n",
    "from neo4j import GraphDatabase\n",
    "\n",
    "from dotenv import load_dotenv\n",
    "\n",
    "load_dotenv()"
   ]
  },
  {
   "cell_type": "markdown",
   "id": "738ffb51-bf2f-4a2f-8d66-d69befdee48e",
   "metadata": {},
   "source": [
    "## Scraping\n",
    "\n",
    "Discourse API docs here: https://docs.discourse.org/\n",
    "\n",
    "### Posts\n",
    "\n",
    "First scrape posts.\n",
    "\n",
    "Desired JSON:\n",
    "\n",
    "```\n",
    "{\n",
    "  \"id\": \"post_id\",\n",
    "  \"text\": \"cooked_content_from_api\",\n",
    "  \"author\": {\n",
    "    \"username\": \"author_username\",\n",
    "    \"id\": \"author_id\"\n",
    "  },\n",
    "  \"tags\": [\"tag1\", \"tag2\"],\n",
    "  \"url\": \"post_url\",\n",
    "  \"topic_id\": \"associated_topic_id\",\n",
    "  \"responses\": [\n",
    "    {\n",
    "      \"id\": \"response_post_id\",\n",
    "      \"text\": \"cooked_content_from_api\",\n",
    "      \"author\": {\n",
    "        \"username\": \"author_username\",\n",
    "        \"id\": \"author_id\"\n",
    "      }\n",
    "    }\n",
    "  ]\n",
    "}\n",
    "```\n"
   ]
  },
  {
   "cell_type": "code",
   "execution_count": 2,
   "id": "2ebb8995-aedf-40cb-8153-4bbde524de60",
   "metadata": {},
   "outputs": [],
   "source": [
    "import requests\n",
    "import time\n",
    "\n",
    "def fetch_categories(base_url):\n",
    "    \"\"\"Fetch all categories from the forum.\"\"\"\n",
    "    url = f\"{base_url}/categories.json\"\n",
    "    response = requests.get(url)\n",
    "    if response.status_code == 200:\n",
    "        try:\n",
    "            data = response.json()\n",
    "            return data.get('category_list', {}).get('categories', [])\n",
    "        except ValueError:\n",
    "            print(\"Failed to decode JSON.\")\n",
    "            return []\n",
    "    else:\n",
    "        print(f\"Failed to fetch categories: {response.status_code}\")\n",
    "        return []\n",
    "\n",
    "def fetch_topics(base_url, category_slug):\n",
    "    topics = []\n",
    "    page = 0\n",
    "    while True:\n",
    "        url = f\"{base_url}/c/{category_slug}.json?page={page}\"\n",
    "        response = requests.get(url)\n",
    "        if response.status_code != 200:\n",
    "            break\n",
    "        data = response.json()\n",
    "        fetched_topics = data.get(\"topic_list\", {}).get(\"topics\", [])\n",
    "        if not fetched_topics:\n",
    "            break\n",
    "        topics.extend(fetched_topics)\n",
    "        page += 1\n",
    "    return topics\n",
    "\n",
    "def fetch_topic_details(base_url, topic_id):\n",
    "    url = f\"{base_url}/t/{topic_id}.json\"\n",
    "    response = requests.get(url)\n",
    "    time.sleep(.5)  # Respectful delay to avoid hitting rate limits\n",
    "    if response.status_code != 200:\n",
    "        return None\n",
    "    return response.json()\n",
    "\n",
    "def organize_post_data(base_url, topic_details):\n",
    "    posts_data = []\n",
    "    posts = topic_details.get(\"post_stream\", {}).get(\"posts\", [])\n",
    "    for post in posts:\n",
    "        post_data = {\n",
    "            \"text\": post.get(\"cooked\", \"\"),\n",
    "            \"title\": topic_details.get(\"title\", \"\"),\n",
    "            \"author\": post.get(\"username\", \"\"),\n",
    "            \"tags\": topic_details.get(\"tags\", []),\n",
    "            \"url\": f\"{base_url}/t/{topic_details.get('id')}/{post.get('post_number')}\"\n",
    "        }\n",
    "        responses = [response for response in posts if response.get(\"reply_to_post_number\") == post.get(\"post_number\")]\n",
    "        post_data[\"responses\"] = [{\n",
    "            \"text\": response.get(\"cooked\", \"\"),\n",
    "            \"author\": response.get(\"username\", \"\")\n",
    "        } for response in responses]\n",
    "        posts_data.append(post_data)\n",
    "    return posts_data\n",
    "\n"
   ]
  },
  {
   "cell_type": "code",
   "execution_count": null,
   "id": "d73d3e28-44b4-4bcc-8bd1-5203ef5f2d44",
   "metadata": {},
   "outputs": [],
   "source": [
    "arb_base_url = \"https://forum.arbitrum.foundation\""
   ]
  },
  {
   "cell_type": "code",
   "execution_count": 1,
   "id": "aa0f70bf-8dcb-4e05-b8fd-b129bc394fa9",
   "metadata": {},
   "outputs": [
    {
     "ename": "NameError",
     "evalue": "name 'fetch_categories' is not defined",
     "output_type": "error",
     "traceback": [
      "\u001b[0;31m---------------------------------------------------------------------------\u001b[0m",
      "\u001b[0;31mNameError\u001b[0m                                 Traceback (most recent call last)",
      "Cell \u001b[0;32mIn[1], line 1\u001b[0m\n\u001b[0;32m----> 1\u001b[0m categories \u001b[38;5;241m=\u001b[39m \u001b[43mfetch_categories\u001b[49m(arb_base_url)\n\u001b[1;32m      2\u001b[0m categories[\u001b[38;5;241m0\u001b[39m]\n",
      "\u001b[0;31mNameError\u001b[0m: name 'fetch_categories' is not defined"
     ]
    }
   ],
   "source": [
    "categories = fetch_categories(arb_base_url)\n",
    "categories[0]"
   ]
  },
  {
   "cell_type": "code",
   "execution_count": 41,
   "id": "1596366e-854d-4467-ab53-b0972516a1f0",
   "metadata": {},
   "outputs": [],
   "source": [
    "def organize_post_data(base_url, topic_details, category_name):\n",
    "    \"\"\"Organize post data into the desired JSON structure, including category and topic info.\"\"\"\n",
    "    posts_data = []\n",
    "    posts = topic_details.get(\"post_stream\", {}).get(\"posts\", [])\n",
    "    for post in posts:\n",
    "        post_data = {\n",
    "            \"text\": post.get(\"cooked\", \"\"),\n",
    "            \"title\": topic_details.get(\"title\", \"\"),\n",
    "            \"author\": post.get(\"username\", \"\"),\n",
    "            \"tags\": topic_details.get(\"tags\", []),\n",
    "            \"category\": category_name,  # Include category name\n",
    "            \"topic_id\": topic_details.get(\"id\"),  # Include topic ID\n",
    "            \"url\": f\"{base_url}/t/{topic_details.get('id')}/{post.get('post_number')}\"\n",
    "        }\n",
    "        # Find responses to this post\n",
    "        responses = [response for response in posts if response.get(\"reply_to_post_number\") == post.get(\"post_number\")]\n",
    "        post_data[\"responses\"] = [{\n",
    "            \"text\": response.get(\"cooked\", \"\"),\n",
    "            \"author\": response.get(\"username\", \"\")\n",
    "        } for response in responses]\n",
    "        posts_data.append(post_data)\n",
    "    return posts_data\n"
   ]
  },
  {
   "cell_type": "code",
   "execution_count": 36,
   "id": "4ea301f4-387a-476f-9b66-fb240dfcbf82",
   "metadata": {},
   "outputs": [
    {
     "data": {
      "text/plain": [
       "5966"
      ]
     },
     "execution_count": 36,
     "metadata": {},
     "output_type": "execute_result"
    }
   ],
   "source": [
    "all_posts = organize_post_data(arb_base_url, c"
   ]
  },
  {
   "cell_type": "code",
   "execution_count": null,
   "id": "4e25669c-9413-49ec-9dbc-472b9d9555bb",
   "metadata": {},
   "outputs": [],
   "source": []
  }
 ],
 "metadata": {
  "kernelspec": {
   "display_name": "Python 3 (ipykernel)",
   "language": "python",
   "name": "python3"
  },
  "language_info": {
   "codemirror_mode": {
    "name": "ipython",
    "version": 3
   },
   "file_extension": ".py",
   "mimetype": "text/x-python",
   "name": "python",
   "nbconvert_exporter": "python",
   "pygments_lexer": "ipython3",
   "version": "3.10.0"
  }
 },
 "nbformat": 4,
 "nbformat_minor": 5
}
