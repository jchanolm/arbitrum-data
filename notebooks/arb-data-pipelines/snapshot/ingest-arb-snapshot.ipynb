{
 "cells": [
  {
   "cell_type": "code",
   "execution_count": 1,
   "id": "5f733032-f22e-4197-889a-62a12e596e7a",
   "metadata": {},
   "outputs": [],
   "source": [
    "import requests\n",
    "import pandas as pd\n",
    "import json\n",
    "import os\n",
    "import re\n",
    "import html\n",
    "\n",
    "from dotenv import load_dotenv\n",
    "from neo4j import GraphDatabase\n",
    "\n",
    "\n",
    "load_dotenv()\n",
    "\n",
    "\n",
    "NEO4J_URI = os.getenv('NEO4J_URI')\n",
    "NEO4J_PASS = os.getenv('NEO4J_PASS')\n",
    "neo4j_client = GraphDatabase.driver(NEO4J_URI, auth=('neo4j', NEO4J_PASS))\n",
    "retrieval = \"InitialIngest\"\n",
    "\n",
    "def execute_query(query, params=None, neo4j=neo4j_client):\n",
    "    with neo4j_client.session() as session:\n",
    "        result = session.run(query, parameters=params)\n",
    "        # Convert the result to a DataFrame\n",
    "        records = [record.data() for record in result]\n",
    "        return pd.DataFrame(records)\n"
   ]
  },
  {
   "cell_type": "code",
   "execution_count": null,
   "id": "3655733a-c64e-4137-b00f-566c99a79a31",
   "metadata": {},
   "outputs": [],
   "source": [
    "##\n",
    "def call_snapshot_api(query, snapshot_url=\"https://hub.snapshot.org/graphql\", counter=0):\n",
    "    if counter > 10:\n",
    "        raise Exception(\"Max retries exceeded.\")\n",
    "    response = requests.post(snapshot_url, json={\"query\": query})\n",
    "    if response.status_code == 504:\n",
    "        # Handle Gateway Timeout\n",
    "        return make_api_call(query, snapshot_url, counter=counter + 1)\n",
    "    data = response.json()\n",
    "    if \"errors\" in data:\n",
    "        raise Exception(\"Error in API response: {}\".format(data[\"errors\"]))\n",
    "    return data[\"data\"]\n",
    "\n",
    "\n",
    "\n",
    "def clean_text(text):\n",
    "    # Unescape HTML entities\n",
    "    text = html.unescape(text)\n",
    "    \n",
    "    # Remove HTML tags\n",
    "    text = re.sub(r'<[^>]+>', '', text)\n",
    "    \n",
    "    # Replace smart double quotes with standard quotes\n",
    "    text = re.sub(r'[“”]', '\"', text)\n",
    "    \n",
    "    # Replace smart single quotes with standard quotes\n",
    "    text = re.sub(r\"[‘’]\", \"'\", text)\n",
    "    \n",
    "    # Replace long dashes with hyphens\n",
    "    text = re.sub(r'[—–]', '-', text)\n",
    "    \n",
    "    # Remove non-ASCII characters\n",
    "    text = re.sub(r'[^\\x00-\\x7F]+', '', text)\n",
    "    \n",
    "    # Replace other non-standard quote patterns (if any specific patterns are known they should be added here)\n",
    "    # Example: text = re.sub(r'weird_pattern', 'replacement', text)\n",
    "    \n",
    "    return text\n"
   ]
  },
  {
   "cell_type": "code",
   "execution_count": null,
   "id": "f4a8b45b-5e15-4e91-87e4-6486ea1ac114",
   "metadata": {},
   "outputs": [],
   "source": [
    "arb_space_id = \"arbitrumfoundation.eth\"  # Replace with the actual space ID\n",
    "\n",
    "spaces_query = f\"\"\"\n",
    "{{\n",
    "    space(id: \"{arb_space_id}\") {{\n",
    "        id\n",
    "        name\n",
    "        about\n",
    "        avatar\n",
    "        website\n",
    "        twitter\n",
    "        github\n",
    "        network\n",
    "        symbol\n",
    "        strategies {{\n",
    "            name\n",
    "            params\n",
    "        }}\n",
    "        admins\n",
    "        members\n",
    "    }}\n",
    "}}\n",
    "\"\"\" \n",
    "\n",
    "proposals_query = f\"\"\"\n",
    "{{\n",
    "    proposals(\n",
    "        where: {{\n",
    "            space_in: [\"{arb_space_id}\"]\n",
    "        }},\n",
    "        first: 1000\n",
    "    ) {{\n",
    "        id\n",
    "        title\n",
    "        body\n",
    "        choices\n",
    "        start\n",
    "        end\n",
    "        state\n",
    "        author\n",
    "    }}\n",
    "}}\n",
    "\"\"\" \n",
    "\n",
    "# votes_query = f\"\"\"\n",
    "# {{\n",
    "#     votes(\n",
    "#         where: {{\n",
    "#             proposal: \"{arb_space_id}\"\n",
    "#         }},\n",
    "#         first: 10\n",
    "#     ) {{\n",
    "#         id\n",
    "#         voter\n",
    "#         choice\n",
    "#     }}\n",
    "# }}\n",
    "# \"\"\""
   ]
  },
  {
   "cell_type": "code",
   "execution_count": null,
   "id": "70b9a27d-f19f-4e38-990a-c29392d0b5ae",
   "metadata": {},
   "outputs": [],
   "source": [
    "space_data = call_snapshot_api(spaces_query)\n",
    "print(json.dumps(space_data, indent=4))\n"
   ]
  },
  {
   "cell_type": "code",
   "execution_count": null,
   "id": "45532b5c-663f-48f1-9df3-c55edfe407f3",
   "metadata": {},
   "outputs": [],
   "source": [
    "## create snapshot space\n",
    "\n",
    "params = {\n",
    "    'spaceId': space_data['space']['id'],\n",
    "    'name': space_data['space']['name'],\n",
    "    'website': space_data['space']['website'],\n",
    "    'twitter': space_data['space']['twitter'],\n",
    "    'strategyToken': space_data['space']['strategies'][0]['params']['address']\n",
    "}\n",
    "\n",
    "space_query = \"\"\"\n",
    "    match (entity:Entity {name: \"Arbitrum Foundation\"}) \n",
    "    with entity\n",
    "    merge (space:Snapshot:Space {spaceId: $spaceId}) \n",
    "    set space.name = $name\n",
    "    set space.website = $website\n",
    "    set space.twitter = $twitter \n",
    "    set space.strategyToken = $strategyToken\n",
    "    with entity, space \n",
    "    merge (entity)-[r:ACCOUNT]->(space)\n",
    "    return entity, r, space\n",
    "\"\"\"\n",
    "\n",
    "execute_query(space_query, params)"
   ]
  },
  {
   "cell_type": "code",
   "execution_count": null,
   "id": "bd6465f8-88f8-445d-8f03-4d09679d484c",
   "metadata": {},
   "outputs": [],
   "source": [
    "# dump"
   ]
  },
  {
   "cell_type": "code",
   "execution_count": null,
   "id": "bd682293-6fdc-457c-9ca8-ef1d520f80ec",
   "metadata": {
    "scrolled": true
   },
   "outputs": [],
   "source": [
    "proposals_data = call_snapshot_api(proposals_query)\n",
    "\n",
    "proposals_data['proposals'][0].keys()"
   ]
  },
  {
   "cell_type": "code",
   "execution_count": null,
   "id": "d1f94f5c-f935-4029-acae-8cdd3a4c3a87",
   "metadata": {},
   "outputs": [],
   "source": [
    "proposals_data_df = pd.DataFrame(proposals_data['proposals'])"
   ]
  },
  {
   "cell_type": "code",
   "execution_count": null,
   "id": "876c8f24-c2e6-4fb7-8d20-4eb49f421c90",
   "metadata": {},
   "outputs": [],
   "source": [
    "proposals_data_df.to_csv(\"snapshot-scraped-data/arb-snapshot-proposals-20240303.csv\")"
   ]
  },
  {
   "cell_type": "code",
   "execution_count": null,
   "id": "ebf987bb-dace-401d-918a-28ee465c2afe",
   "metadata": {
    "scrolled": true
   },
   "outputs": [],
   "source": [
    "counter = 0 \n",
    "total = len(proposals_data['proposals'])\n",
    "\n",
    "## create proposals\n",
    "for i in proposals_data['proposals']:\n",
    "    counter += 1\n",
    "    print(f\"Ingesting proposal {str(counter)} out of {str(total)}...\")\n",
    "    \n",
    "    name = clean_text(i['title'])\n",
    "    text = clean_text(i['body'])\n",
    "    authorAddress = i['author'].lower()\n",
    "    props_params = {\n",
    "        'id': i['id'],\n",
    "        'name': i['title'], \n",
    "        'startDt': i['start'],\n",
    "        'endDt': i['end'],\n",
    "        'choices': i['choices'], \n",
    "        'name': name, \n",
    "        'text': text,\n",
    "        'authorAddress': authorAddress\n",
    "    }\n",
    "    props_query = \"\"\"\n",
    "    merge (prop:Snapshot:Proposal {id: $id})\n",
    "    set prop.name = $name\n",
    "    set prop.text = $text\n",
    "    set prop.startDt = $startDt\n",
    "    set prop.endDt = $endDt\n",
    "    set prop.choices = $choices\n",
    "    \"\"\"\n",
    "    execute_query(props_query, props_params)"
   ]
  },
  {
   "cell_type": "code",
   "execution_count": null,
   "id": "724f6076-1525-47ab-8551-55cda592f046",
   "metadata": {},
   "outputs": [],
   "source": [
    "### connect\n",
    "\n",
    "execute_query(\"\"\"match (prop:Proposal) match (space:Space)\n",
    "with prop, space\n",
    "merge (space)-[r:PROPOSAL]->(proposal)\"\"\")\n",
    "\n"
   ]
  },
  {
   "cell_type": "code",
   "execution_count": null,
   "id": "85764a64-b638-4c9e-836f-45e9dc502fe6",
   "metadata": {},
   "outputs": [],
   "source": [
    "## create and link authors\n",
    "counter = 0 \n",
    "total = len(proposals_data['proposals'])\n",
    "\n",
    "## create proposals\n",
    "for i in proposals_data['proposals']:\n",
    "    counter += 1\n",
    "    print(f\"Ingesting record {str(counter)} out of {str(total)}...\")\n",
    "    \n",
    "    authorAddress = i['author'].lower()\n",
    "\n",
    "    walletParams = {\n",
    "        'authorAddress' : authorAddress,\n",
    "        'proposalId': i['id']\n",
    "    }\n",
    "\n",
    "    walletsQuery = \"\"\"\n",
    "    merge (wallet:Wallet {address: $authorAddress}) \n",
    "    with wallet \n",
    "    match (proposal:Proposal:Snapshot {id: $proposalId}) \n",
    "    with wallet, proposal \n",
    "    merge (wallet)-[r:AUTHOR]->(proposal)\n",
    "    \"\"\"\n",
    "    execute_query(walletsQuery, walletParams)"
   ]
  },
  {
   "cell_type": "code",
   "execution_count": null,
   "id": "b1e2e678-d813-4961-8807-ac2e2b3ad91b",
   "metadata": {},
   "outputs": [],
   "source": [
    "## cool voters"
   ]
  },
  {
   "cell_type": "code",
   "execution_count": null,
   "id": "75992f3b-f8f0-4fdd-9c67-bdad7f625f79",
   "metadata": {},
   "outputs": [],
   "source": [
    "def get_all_votes_for_proposals(proposals_response):\n",
    "    votes_query_template = \"\"\"\n",
    "    {{\n",
    "        votes (\n",
    "            first: 1000,\n",
    "            skip: {skip},\n",
    "            where: {{\n",
    "                proposal_in: {proposal_ids}\n",
    "            }}\n",
    "        ) {{\n",
    "            id\n",
    "            voter\n",
    "            choice\n",
    "            proposal {{\n",
    "                id\n",
    "            }}\n",
    "        }}\n",
    "    }}\n",
    "    \"\"\"\n",
    "    proposal_ids = [proposal[\"id\"] for proposal in proposals_response['proposals']]\n",
    "    all_votes = []\n",
    "    for proposal_id in proposal_ids:\n",
    "        skip = 0\n",
    "        while True:\n",
    "            query = votes_query_template.format(skip=skip, proposal_ids=json.dumps([proposal_id]))\n",
    "            response = requests.post(\"https://hub.snapshot.org/graphql\", json={\"query\": query})\n",
    "            if response.status_code == 200:\n",
    "                data = response.json()[\"data\"][\"votes\"]\n",
    "                if not data:\n",
    "                    break\n",
    "                all_votes.extend(data)\n",
    "                skip += 1000\n",
    "            else:\n",
    "                break\n",
    "    return all_votes\n",
    "\n",
    "all_votes = get_all_votes_for_proposals(proposals_data)"
   ]
  },
  {
   "cell_type": "code",
   "execution_count": null,
   "id": "25bb693e-0766-4bc2-8aca-ce8c7fd6d774",
   "metadata": {},
   "outputs": [],
   "source": [
    "len(all_votes)"
   ]
  },
  {
   "cell_type": "code",
   "execution_count": null,
   "id": "b7ffc448-02af-42a4-958a-7a1da6dfa9ae",
   "metadata": {},
   "outputs": [],
   "source": [
    "proposal_votes_df = pd.DataFrame(all_votes)\n",
    "type(proposal_votes_df.iloc[0]['proposal'])\n",
    "proposal_votes_df['proposalId'] = proposal_votes_df['proposal'].apply(lambda x: x['id'])\n",
    "proposal_votes_df['voter'] = proposal_votes_df['voter'].apply(lambda x: x['voter'].lower())"
   ]
  },
  {
   "cell_type": "code",
   "execution_count": null,
   "id": "b1c93873-e902-41c5-b3f8-1d30eda704b7",
   "metadata": {},
   "outputs": [],
   "source": [
    "proposal_votes_df_upload = proposal_votes_df[['voter', 'proposalId']]\n",
    "proposal_votes_df_upload.to_csv(\"snapshot-scraped-data/arb-snapshot-votes-initial.csv\")"
   ]
  },
  {
   "cell_type": "code",
   "execution_count": null,
   "id": "c7504a61-4c93-4689-ae0e-29fbab44d218",
   "metadata": {},
   "outputs": [],
   "source": [
    "voters_create = \"\"\"\n",
    "LOAD CSV WITH HEADERS FROM 'https://github.com/jchanolm/arbitrum-data/blob/main/notebooks/arb-data-pipelines/snapshot/snapshot-scraped-data/arb-snapshot-votes-initial-fixed.csv' AS row\n",
    "MERGE (w:Wallet {address: row.voter})\n",
    "\"\"\"\n",
    "\n",
    "execute_query(voters)"
   ]
  },
  {
   "cell_type": "code",
   "execution_count": null,
   "id": "8bd578a2-e1d4-4ccf-871d-c643e83cf4a8",
   "metadata": {},
   "outputs": [],
   "source": [
    "voters_connect = \"\"\"\n",
    "LOAD CSV WITH HEADERS FROM 'https://github.com/jchanolm/arbitrum-data/blob/main/notebooks/arb-data-pipelines/snapshot/snapshot-scraped-data/arb-snapshot-votes-initial-fixed.csv' AS row\n",
    "MATCH (w:Wallet {address: row.voter})\n",
    "MATCH (prop:Proposal {id: row.proposalId})\n",
    "MERGE (w)-[r:VOTED]->(prop)\n",
    "\"\"\"\n",
    "\n",
    "execute_query(voters_connect)"
   ]
  },
  {
   "cell_type": "code",
   "execution_count": null,
   "id": "7bbaa52f-5b7a-424a-8854-3d0d3eaeb7d2",
   "metadata": {},
   "outputs": [],
   "source": [
    "### set choice"
   ]
  },
  {
   "cell_type": "code",
   "execution_count": null,
   "id": "3aca1e25-88a9-4aff-858f-6a9a20c16b76",
   "metadata": {},
   "outputs": [],
   "source": [
    "connect_voters_to_proposals = \"\"\"\n",
    "LOAD CSV WITH HEADERS FROM 'https://raw.githubusercontent.com/jchanolm/arbitrum-data/main/notebooks/arb-governance-data/snapshot/snapshot-scraped-data/cleaned_arb_snapshot_votes.csv' AS row\n",
    "MATCH (w:Wallet {address: tolower(row.voter)})\n",
    "MATCH (p:Proposal {id: row.proposalId})\n",
    "MERGE (w)-[:VOTED {choice: row.choice}]->(p)\n",
    "\"\"\"\n",
    "\n",
    "execute_query(connect_voters_to_proposals)"
   ]
  },
  {
   "cell_type": "code",
   "execution_count": null,
   "id": "adaf69de-4565-4a6f-8555-4934cc6e997c",
   "metadata": {},
   "outputs": [],
   "source": [
    "## connect snapshot urls from grant subs\n",
    "\n",
    "connect_snapshot_proposals_to_grantees = \"\"\"\n",
    "connect\n",
    "match (prop:Snapshot:Proposal)\n",
    "match (grantee:Grantee)-[r:GRANTEE]-(grant:GrantInitiative)\n",
    "where r.grantApprovalAction contains prop.id \n",
    "with prop, grantee, grant\n",
    "merge (grant)-[r:PROPROSAL]->(prop)\n",
    "merge (prop)-[r1:APPROVED_FUNDING]->(grantee)\"\"\"\n",
    "\n",
    "execute_query(connect_snapshot_proposals_to_grantees)"
   ]
  }
 ],
 "metadata": {
  "kernelspec": {
   "display_name": "Python 3 (ipykernel)",
   "language": "python",
   "name": "python3"
  },
  "language_info": {
   "codemirror_mode": {
    "name": "ipython",
    "version": 3
   },
   "file_extension": ".py",
   "mimetype": "text/x-python",
   "name": "python",
   "nbconvert_exporter": "python",
   "pygments_lexer": "ipython3",
   "version": "3.10.0"
  }
 },
 "nbformat": 4,
 "nbformat_minor": 5
}
