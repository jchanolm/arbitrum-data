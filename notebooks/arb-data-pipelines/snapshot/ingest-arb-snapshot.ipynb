{
 "cells": [
  {
   "cell_type": "code",
   "execution_count": 1,
   "id": "5f733032-f22e-4197-889a-62a12e596e7a",
   "metadata": {},
   "outputs": [],
   "source": [
    "import requests\n",
    "import pandas as pd\n",
    "import json\n",
    "import os\n",
    "import re\n",
    "\n",
    "from dotenv import load_dotenv\n",
    "from neo4j import GraphDatabase\n",
    "\n",
    "\n",
    "load_dotenv()\n",
    "\n",
    "\n",
    "NEO4J_URI = os.getenv('NEO4J_URI')\n",
    "NEO4J_PASS = os.getenv('NEO4J_PASS')\n",
    "neo4j_client = GraphDatabase.driver(NEO4J_URI, auth=('neo4j', NEO4J_PASS))\n",
    "retrieval = \"InitialIngest\"\n",
    "\n",
    "def execute_query(query, params=None, neo4j=neo4j_client):\n",
    "    with neo4j_client.session() as session:\n",
    "        result = session.run(query, parameters=params)\n",
    "        # Convert the result to a DataFrame\n",
    "        records = [record.data() for record in result]\n",
    "        return pd.DataFrame(records)\n"
   ]
  },
  {
   "cell_type": "code",
   "execution_count": null,
   "id": "3655733a-c64e-4137-b00f-566c99a79a31",
   "metadata": {},
   "outputs": [],
   "source": [
    "##\n",
    "def make_api_call(self, query, counter=0, content=None):\n",
    "    time.sleep(counter)\n",
    "    if counter > 10:\n",
    "        logging.error(content)\n",
    "        raise Exception(\"Something went wrong while getting the results from the API\")\n",
    "    content = self.post_request(self.snapshot_url, json={\"query\": query})\n",
    "    if \"504: Gateway time-out\" in content:\n",
    "        return self.make_api_call(query, counter=counter + 1, content=content)\n",
    "    data = json.loads(content)\n",
    "    if \"data\" not in data or \"error\" in data:\n",
    "        return self.make_api_call(query, counter=counter + 1, content=content)\n",
    "    return data[\"data\"]\n",
    "\n",
    "\n",
    "def call_snapshot_api(query, snapshot_url=\"https://hub.snapshot.org/graphql\", counter=0):\n",
    "    if counter > 10:\n",
    "        raise Exception(\"Max retries exceeded.\")\n",
    "    response = requests.post(snapshot_url, json={\"query\": query})\n",
    "    if response.status_code == 504:\n",
    "        # Handle Gateway Timeout\n",
    "        return make_api_call(query, snapshot_url, counter=counter + 1)\n",
    "    data = response.json()\n",
    "    if \"errors\" in data:\n",
    "        raise Exception(\"Error in API response: {}\".format(data[\"errors\"]))\n",
    "    return data[\"data\"]\n",
    "\n",
    "\n",
    "def clean_text(text):\n",
    "    text = re.sub(r\"[“”]\", '\"', text)  # Replace smart double quotes\n",
    "    text = re.sub(r\"[‘’]\", \"'\", text)  # Replace smart single quotes\n",
    "    text = re.sub(r\"[—–]\", \"-\", text)\n",
    "    text = re.sub(r\"[^\\x00-\\x7F]+\", \"\", text)\n",
    "    \n",
    "    return text"
   ]
  },
  {
   "cell_type": "code",
   "execution_count": null,
   "id": "f4a8b45b-5e15-4e91-87e4-6486ea1ac114",
   "metadata": {},
   "outputs": [],
   "source": [
    "arb_space_id = \"arbitrumfoundation.eth\"  # Replace with the actual space ID\n",
    "\n",
    "spaces_query = f\"\"\"\n",
    "{{\n",
    "    space(id: \"{arb_space_id}\") {{\n",
    "        id\n",
    "        name\n",
    "        about\n",
    "        avatar\n",
    "        website\n",
    "        twitter\n",
    "        github\n",
    "        network\n",
    "        symbol\n",
    "        strategies {{\n",
    "            name\n",
    "            params\n",
    "        }}\n",
    "        admins\n",
    "        members\n",
    "    }}\n",
    "}}\n",
    "\"\"\" \n",
    "\n",
    "proposals_query = f\"\"\"\n",
    "{{\n",
    "    proposals(\n",
    "        where: {{\n",
    "            space_in: [\"{arb_space_id}\"]\n",
    "        }},\n",
    "        first: 1000\n",
    "    ) {{\n",
    "        id\n",
    "        title\n",
    "        body\n",
    "        choices\n",
    "        start\n",
    "        end\n",
    "        state\n",
    "        author\n",
    "    }}\n",
    "}}\n",
    "\"\"\" \n",
    "\n",
    "# votes_query = f\"\"\"\n",
    "# {{\n",
    "#     votes(\n",
    "#         where: {{\n",
    "#             proposal: \"{arb_space_id}\"\n",
    "#         }},\n",
    "#         first: 10\n",
    "#     ) {{\n",
    "#         id\n",
    "#         voter\n",
    "#         choice\n",
    "#     }}\n",
    "# }}\n",
    "# \"\"\""
   ]
  },
  {
   "cell_type": "code",
   "execution_count": null,
   "id": "70b9a27d-f19f-4e38-990a-c29392d0b5ae",
   "metadata": {},
   "outputs": [],
   "source": [
    "space_data = call_snapshot_api(spaces_query)\n",
    "print(json.dumps(space_data, indent=4))\n"
   ]
  },
  {
   "cell_type": "code",
   "execution_count": null,
   "id": "45532b5c-663f-48f1-9df3-c55edfe407f3",
   "metadata": {},
   "outputs": [],
   "source": [
    "## create snapshot space\n",
    "\n",
    "params = {\n",
    "    'spaceId': space_data['space']['id'],\n",
    "    'name': space_data['space']['name'],\n",
    "    'website': space_data['space']['website'],\n",
    "    'twitter': space_data['space']['twitter'],\n",
    "    'strategyToken': space_data['space']['strategies'][0]['params']['address']\n",
    "}\n",
    "\n",
    "space_query = \"\"\"\n",
    "    match (entity:Entity {name: \"Arbitrum Foundation\"}) \n",
    "    with entity\n",
    "    merge (space:Snapshot:Space {spaceId: $spaceId}) \n",
    "    set space.name = $name\n",
    "    set space.website = $website\n",
    "    set space.twitter = $twitter \n",
    "    set space.strategyToken = $strategyToken\n",
    "    with entity, space \n",
    "    merge (entity)-[r:ACCOUNT]->(space)\n",
    "    return entity, r, space\n",
    "\"\"\"\n",
    "\n",
    "execute_query(space_query, params)"
   ]
  },
  {
   "cell_type": "code",
   "execution_count": null,
   "id": "bd6465f8-88f8-445d-8f03-4d09679d484c",
   "metadata": {},
   "outputs": [],
   "source": [
    "# dump"
   ]
  },
  {
   "cell_type": "code",
   "execution_count": null,
   "id": "bd682293-6fdc-457c-9ca8-ef1d520f80ec",
   "metadata": {
    "scrolled": true
   },
   "outputs": [],
   "source": [
    "proposals_data = call_snapshot_api(proposals_query)\n",
    "\n",
    "proposals_data['proposals'][0].keys()"
   ]
  },
  {
   "cell_type": "code",
   "execution_count": null,
   "id": "d1f94f5c-f935-4029-acae-8cdd3a4c3a87",
   "metadata": {},
   "outputs": [],
   "source": [
    "proposals_data_df = pd.DataFrame(proposals_data['proposals'])"
   ]
  },
  {
   "cell_type": "code",
   "execution_count": null,
   "id": "876c8f24-c2e6-4fb7-8d20-4eb49f421c90",
   "metadata": {},
   "outputs": [],
   "source": [
    "proposals_data_df.to_csv(\"snapshot-scraped-data/arb-snapshot-proposals-20240303.csv\")"
   ]
  },
  {
   "cell_type": "code",
   "execution_count": null,
   "id": "ebf987bb-dace-401d-918a-28ee465c2afe",
   "metadata": {
    "scrolled": true
   },
   "outputs": [],
   "source": [
    "counter = 0 \n",
    "total = len(proposals_data['proposals'])\n",
    "\n",
    "## create proposals\n",
    "for i in proposals_data['proposals']:\n",
    "    counter += 1\n",
    "    print(f\"Ingesting proposal {str(counter)} out of {str(total)}...\")\n",
    "    \n",
    "    name = clean_text(i['title'])\n",
    "    text = clean_text(i['body'])\n",
    "    authorAddress = i['author'].lower()\n",
    "    props_params = {\n",
    "        'id': i['id'],\n",
    "        'name': i['title'], \n",
    "        'startDt': i['start'],\n",
    "        'endDt': i['end'],\n",
    "        'choices': i['choices'], \n",
    "        'name': name, \n",
    "        'text': text,\n",
    "        'authorAddress': authorAddress\n",
    "    }\n",
    "    props_query = \"\"\"\n",
    "    merge (prop:Snapshot:Proposal {id: $id})\n",
    "    set prop.name = $name\n",
    "    set prop.text = $text\n",
    "    set prop.startDt = $startDt\n",
    "    set prop.endDt = $endDt\n",
    "    set prop.choices = $choices\n",
    "    \"\"\"\n",
    "    execute_query(props_query, props_params)"
   ]
  },
  {
   "cell_type": "code",
   "execution_count": null,
   "id": "724f6076-1525-47ab-8551-55cda592f046",
   "metadata": {},
   "outputs": [],
   "source": [
    "### connect\n",
    "\n",
    "execute_query(\"\"\"match (prop:Proposal) match (space:Space)\n",
    "with prop, space\n",
    "merge (space)-[r:PROPOSAL]->(proposal)\"\"\")\n",
    "\n"
   ]
  },
  {
   "cell_type": "code",
   "execution_count": null,
   "id": "85764a64-b638-4c9e-836f-45e9dc502fe6",
   "metadata": {},
   "outputs": [],
   "source": [
    "## create and link authors\n",
    "counter = 0 \n",
    "total = len(proposals_data['proposals'])\n",
    "\n",
    "## create proposals\n",
    "for i in proposals_data['proposals']:\n",
    "    counter += 1\n",
    "    print(f\"Ingesting record {str(counter)} out of {str(total)}...\")\n",
    "    \n",
    "    authorAddress = i['author'].lower()\n",
    "\n",
    "    walletParams = {\n",
    "        'authorAddress' : authorAddress,\n",
    "        'proposalId': i['id']\n",
    "    }\n",
    "\n",
    "    walletsQuery = \"\"\"\n",
    "    merge (wallet:Wallet {address: $authorAddress}) \n",
    "    with wallet \n",
    "    match (proposal:Proposal:Snapshot {id: $proposalId}) \n",
    "    with wallet, proposal \n",
    "    merge (wallet)-[r:AUTHOR]->(proposal)\n",
    "    \"\"\"\n",
    "    execute_query(walletsQuery, walletParams)"
   ]
  },
  {
   "cell_type": "code",
   "execution_count": null,
   "id": "b1e2e678-d813-4961-8807-ac2e2b3ad91b",
   "metadata": {},
   "outputs": [],
   "source": [
    "## cool voters"
   ]
  },
  {
   "cell_type": "code",
   "execution_count": null,
   "id": "75992f3b-f8f0-4fdd-9c67-bdad7f625f79",
   "metadata": {},
   "outputs": [],
   "source": [
    "def get_all_votes_for_proposals(proposals_response):\n",
    "    votes_query_template = \"\"\"\n",
    "    {{\n",
    "        votes (\n",
    "            first: 100,\n",
    "            skip: {skip},\n",
    "            where: {{\n",
    "                proposal_in: {proposal_ids}\n",
    "            }}\n",
    "        ) {{\n",
    "            id\n",
    "            voter\n",
    "            choice\n",
    "            proposal {{\n",
    "                id\n",
    "            }}\n",
    "        }}\n",
    "    }}\n",
    "    \"\"\"\n",
    "    proposal_ids = [proposal[\"id\"] for proposal in proposals_response['proposals']]\n",
    "    all_votes = []\n",
    "    for proposal_id in proposal_ids:\n",
    "        skip = 0\n",
    "        while True:\n",
    "            query = votes_query_template.format(skip=skip, proposal_ids=json.dumps([proposal_id]))\n",
    "            response = requests.post(\"https://hub.snapshot.org/graphql\", json={\"query\": query})\n",
    "            if response.status_code == 200:\n",
    "                data = response.json()[\"data\"][\"votes\"]\n",
    "                if not data:\n",
    "                    break\n",
    "                all_votes.extend(data)\n",
    "                skip += 100\n",
    "            else:\n",
    "                break\n",
    "    return all_votes\n",
    "\n",
    "all_votes = get_all_votes_for_proposals(proposals_data)"
   ]
  },
  {
   "cell_type": "code",
   "execution_count": null,
   "id": "25bb693e-0766-4bc2-8aca-ce8c7fd6d774",
   "metadata": {},
   "outputs": [],
   "source": [
    "len(all_votes)"
   ]
  },
  {
   "cell_type": "code",
   "execution_count": 5,
   "id": "b7ffc448-02af-42a4-958a-7a1da6dfa9ae",
   "metadata": {},
   "outputs": [
    {
     "ename": "NameError",
     "evalue": "name 'all_votes' is not defined",
     "output_type": "error",
     "traceback": [
      "\u001b[0;31m---------------------------------------------------------------------------\u001b[0m",
      "\u001b[0;31mNameError\u001b[0m                                 Traceback (most recent call last)",
      "Cell \u001b[0;32mIn[5], line 1\u001b[0m\n\u001b[0;32m----> 1\u001b[0m votes \u001b[38;5;241m=\u001b[39m pd\u001b[38;5;241m.\u001b[39mDataFrame(\u001b[43mall_votes\u001b[49m)\n\u001b[1;32m      2\u001b[0m \u001b[38;5;28mtype\u001b[39m(proposal_votes_df\u001b[38;5;241m.\u001b[39miloc[\u001b[38;5;241m0\u001b[39m][\u001b[38;5;124m'\u001b[39m\u001b[38;5;124mproposal\u001b[39m\u001b[38;5;124m'\u001b[39m])\n\u001b[1;32m      3\u001b[0m proposal_votes_df[\u001b[38;5;124m'\u001b[39m\u001b[38;5;124mproposalId\u001b[39m\u001b[38;5;124m'\u001b[39m] \u001b[38;5;241m=\u001b[39m proposal_votes_df[\u001b[38;5;124m'\u001b[39m\u001b[38;5;124mproposal\u001b[39m\u001b[38;5;124m'\u001b[39m]\u001b[38;5;241m.\u001b[39mapply(\u001b[38;5;28;01mlambda\u001b[39;00m x: x[\u001b[38;5;124m'\u001b[39m\u001b[38;5;124mid\u001b[39m\u001b[38;5;124m'\u001b[39m])\n",
      "\u001b[0;31mNameError\u001b[0m: name 'all_votes' is not defined"
     ]
    }
   ],
   "source": [
    "proposal_votes_df = pd.DataFrame(all_votes)\n",
    "type(proposal_votes_df.iloc[0]['proposal'])\n",
    "proposal_votes_df['proposalId'] = proposal_votes_df['proposal'].apply(lambda x: x['id'])\n",
    "proposal_votes_df['voter'] = proposal_votes_df['voter'].apply(lambda x: x['voter'].lower())"
   ]
  },
  {
   "cell_type": "code",
   "execution_count": null,
   "id": "b1c93873-e902-41c5-b3f8-1d30eda704b7",
   "metadata": {},
   "outputs": [],
   "source": [
    "proposal_votes_df_upload = proposal_votes_df[['voter', 'proposalId']]\n",
    "proposal_votes_df_upload.to_csv(\"snapshot-scraped-data/arb-snapshot-votes-initial.csv\")"
   ]
  },
  {
   "cell_type": "code",
   "execution_count": 4,
   "id": "c7504a61-4c93-4689-ae0e-29fbab44d218",
   "metadata": {},
   "outputs": [
    {
     "ename": "DatabaseError",
     "evalue": "{code: Neo.DatabaseError.Statement.ExecutionFailed} {message: At https://github.com/jchanolm/arbitrum-data/blob/main/notebooks/arb-data-pipelines/snapshot/snapshot-scraped-data/arb-snapshot-votes-initial-fixed.csv @ position 51 -  there's a field starting with a quote and whereas it ends that quote there seems to be characters in that field after that ending quote. That isn't supported. This is what I read: 'fileTree\":'}",
     "output_type": "error",
     "traceback": [
      "\u001b[0;31m---------------------------------------------------------------------------\u001b[0m",
      "\u001b[0;31mDatabaseError\u001b[0m                             Traceback (most recent call last)",
      "Cell \u001b[0;32mIn[4], line 6\u001b[0m\n\u001b[1;32m      1\u001b[0m voters \u001b[38;5;241m=\u001b[39m \u001b[38;5;124m\"\"\"\u001b[39m\n\u001b[1;32m      2\u001b[0m \u001b[38;5;124mLOAD CSV WITH HEADERS FROM \u001b[39m\u001b[38;5;124m'\u001b[39m\u001b[38;5;124mhttps://github.com/jchanolm/arbitrum-data/blob/main/notebooks/arb-data-pipelines/snapshot/snapshot-scraped-data/arb-snapshot-votes-initial-fixed.csv\u001b[39m\u001b[38;5;124m'\u001b[39m\u001b[38;5;124m AS row\u001b[39m\n\u001b[1;32m      3\u001b[0m \u001b[38;5;124mMERGE (w:Wallet \u001b[39m\u001b[38;5;124m{\u001b[39m\u001b[38;5;124maddress: tolower(row.voter)})\u001b[39m\n\u001b[1;32m      4\u001b[0m \u001b[38;5;124m\"\"\"\u001b[39m\n\u001b[0;32m----> 6\u001b[0m \u001b[43mexecute_query\u001b[49m\u001b[43m(\u001b[49m\u001b[43mvoters\u001b[49m\u001b[43m)\u001b[49m\n",
      "Cell \u001b[0;32mIn[1], line 21\u001b[0m, in \u001b[0;36mexecute_query\u001b[0;34m(query, params, neo4j)\u001b[0m\n\u001b[1;32m     19\u001b[0m \u001b[38;5;28;01mdef\u001b[39;00m \u001b[38;5;21mexecute_query\u001b[39m(query, params\u001b[38;5;241m=\u001b[39m\u001b[38;5;28;01mNone\u001b[39;00m, neo4j\u001b[38;5;241m=\u001b[39mneo4j_client):\n\u001b[1;32m     20\u001b[0m     \u001b[38;5;28;01mwith\u001b[39;00m neo4j_client\u001b[38;5;241m.\u001b[39msession() \u001b[38;5;28;01mas\u001b[39;00m session:\n\u001b[0;32m---> 21\u001b[0m         result \u001b[38;5;241m=\u001b[39m \u001b[43msession\u001b[49m\u001b[38;5;241;43m.\u001b[39;49m\u001b[43mrun\u001b[49m\u001b[43m(\u001b[49m\u001b[43mquery\u001b[49m\u001b[43m,\u001b[49m\u001b[43m \u001b[49m\u001b[43mparameters\u001b[49m\u001b[38;5;241;43m=\u001b[39;49m\u001b[43mparams\u001b[49m\u001b[43m)\u001b[49m\n\u001b[1;32m     22\u001b[0m         \u001b[38;5;66;03m# Convert the result to a DataFrame\u001b[39;00m\n\u001b[1;32m     23\u001b[0m         records \u001b[38;5;241m=\u001b[39m [record\u001b[38;5;241m.\u001b[39mdata() \u001b[38;5;28;01mfor\u001b[39;00m record \u001b[38;5;129;01min\u001b[39;00m result]\n",
      "File \u001b[0;32m~/dev/crypto-projects/arbitrum-data/env/lib/python3.10/site-packages/neo4j/_sync/work/session.py:313\u001b[0m, in \u001b[0;36mSession.run\u001b[0;34m(self, query, parameters, **kwargs)\u001b[0m\n\u001b[1;32m    311\u001b[0m bookmarks \u001b[38;5;241m=\u001b[39m \u001b[38;5;28mself\u001b[39m\u001b[38;5;241m.\u001b[39m_get_bookmarks()\n\u001b[1;32m    312\u001b[0m parameters \u001b[38;5;241m=\u001b[39m \u001b[38;5;28mdict\u001b[39m(parameters \u001b[38;5;129;01mor\u001b[39;00m {}, \u001b[38;5;241m*\u001b[39m\u001b[38;5;241m*\u001b[39mkwargs)\n\u001b[0;32m--> 313\u001b[0m \u001b[38;5;28;43mself\u001b[39;49m\u001b[38;5;241;43m.\u001b[39;49m\u001b[43m_auto_result\u001b[49m\u001b[38;5;241;43m.\u001b[39;49m\u001b[43m_run\u001b[49m\u001b[43m(\u001b[49m\n\u001b[1;32m    314\u001b[0m \u001b[43m    \u001b[49m\u001b[43mquery\u001b[49m\u001b[43m,\u001b[49m\u001b[43m \u001b[49m\u001b[43mparameters\u001b[49m\u001b[43m,\u001b[49m\u001b[43m \u001b[49m\u001b[38;5;28;43mself\u001b[39;49m\u001b[38;5;241;43m.\u001b[39;49m\u001b[43m_config\u001b[49m\u001b[38;5;241;43m.\u001b[39;49m\u001b[43mdatabase\u001b[49m\u001b[43m,\u001b[49m\n\u001b[1;32m    315\u001b[0m \u001b[43m    \u001b[49m\u001b[38;5;28;43mself\u001b[39;49m\u001b[38;5;241;43m.\u001b[39;49m\u001b[43m_config\u001b[49m\u001b[38;5;241;43m.\u001b[39;49m\u001b[43mimpersonated_user\u001b[49m\u001b[43m,\u001b[49m\u001b[43m \u001b[49m\u001b[38;5;28;43mself\u001b[39;49m\u001b[38;5;241;43m.\u001b[39;49m\u001b[43m_config\u001b[49m\u001b[38;5;241;43m.\u001b[39;49m\u001b[43mdefault_access_mode\u001b[49m\u001b[43m,\u001b[49m\n\u001b[1;32m    316\u001b[0m \u001b[43m    \u001b[49m\u001b[43mbookmarks\u001b[49m\u001b[43m,\u001b[49m\u001b[43m \u001b[49m\u001b[38;5;28;43mself\u001b[39;49m\u001b[38;5;241;43m.\u001b[39;49m\u001b[43m_config\u001b[49m\u001b[38;5;241;43m.\u001b[39;49m\u001b[43mnotifications_min_severity\u001b[49m\u001b[43m,\u001b[49m\n\u001b[1;32m    317\u001b[0m \u001b[43m    \u001b[49m\u001b[38;5;28;43mself\u001b[39;49m\u001b[38;5;241;43m.\u001b[39;49m\u001b[43m_config\u001b[49m\u001b[38;5;241;43m.\u001b[39;49m\u001b[43mnotifications_disabled_categories\u001b[49m\u001b[43m,\u001b[49m\n\u001b[1;32m    318\u001b[0m \u001b[43m\u001b[49m\u001b[43m)\u001b[49m\n\u001b[1;32m    320\u001b[0m \u001b[38;5;28;01mreturn\u001b[39;00m \u001b[38;5;28mself\u001b[39m\u001b[38;5;241m.\u001b[39m_auto_result\n",
      "File \u001b[0;32m~/dev/crypto-projects/arbitrum-data/env/lib/python3.10/site-packages/neo4j/_sync/work/result.py:181\u001b[0m, in \u001b[0;36mResult._run\u001b[0;34m(self, query, parameters, db, imp_user, access_mode, bookmarks, notifications_min_severity, notifications_disabled_categories)\u001b[0m\n\u001b[1;32m    179\u001b[0m \u001b[38;5;28mself\u001b[39m\u001b[38;5;241m.\u001b[39m_pull()\n\u001b[1;32m    180\u001b[0m \u001b[38;5;28mself\u001b[39m\u001b[38;5;241m.\u001b[39m_connection\u001b[38;5;241m.\u001b[39msend_all()\n\u001b[0;32m--> 181\u001b[0m \u001b[38;5;28;43mself\u001b[39;49m\u001b[38;5;241;43m.\u001b[39;49m\u001b[43m_attach\u001b[49m\u001b[43m(\u001b[49m\u001b[43m)\u001b[49m\n",
      "File \u001b[0;32m~/dev/crypto-projects/arbitrum-data/env/lib/python3.10/site-packages/neo4j/_sync/work/result.py:301\u001b[0m, in \u001b[0;36mResult._attach\u001b[0;34m(self)\u001b[0m\n\u001b[1;32m    299\u001b[0m \u001b[38;5;28;01mif\u001b[39;00m \u001b[38;5;28mself\u001b[39m\u001b[38;5;241m.\u001b[39m_exhausted \u001b[38;5;129;01mis\u001b[39;00m \u001b[38;5;28;01mFalse\u001b[39;00m:\n\u001b[1;32m    300\u001b[0m     \u001b[38;5;28;01mwhile\u001b[39;00m \u001b[38;5;28mself\u001b[39m\u001b[38;5;241m.\u001b[39m_attached \u001b[38;5;129;01mis\u001b[39;00m \u001b[38;5;28;01mFalse\u001b[39;00m:\n\u001b[0;32m--> 301\u001b[0m         \u001b[38;5;28;43mself\u001b[39;49m\u001b[38;5;241;43m.\u001b[39;49m\u001b[43m_connection\u001b[49m\u001b[38;5;241;43m.\u001b[39;49m\u001b[43mfetch_message\u001b[49m\u001b[43m(\u001b[49m\u001b[43m)\u001b[49m\n",
      "File \u001b[0;32m~/dev/crypto-projects/arbitrum-data/env/lib/python3.10/site-packages/neo4j/_sync/io/_common.py:178\u001b[0m, in \u001b[0;36mConnectionErrorHandler.__getattr__.<locals>.outer.<locals>.inner\u001b[0;34m(*args, **kwargs)\u001b[0m\n\u001b[1;32m    176\u001b[0m \u001b[38;5;28;01mdef\u001b[39;00m \u001b[38;5;21minner\u001b[39m(\u001b[38;5;241m*\u001b[39margs, \u001b[38;5;241m*\u001b[39m\u001b[38;5;241m*\u001b[39mkwargs):\n\u001b[1;32m    177\u001b[0m     \u001b[38;5;28;01mtry\u001b[39;00m:\n\u001b[0;32m--> 178\u001b[0m         \u001b[43mfunc\u001b[49m\u001b[43m(\u001b[49m\u001b[38;5;241;43m*\u001b[39;49m\u001b[43margs\u001b[49m\u001b[43m,\u001b[49m\u001b[43m \u001b[49m\u001b[38;5;241;43m*\u001b[39;49m\u001b[38;5;241;43m*\u001b[39;49m\u001b[43mkwargs\u001b[49m\u001b[43m)\u001b[49m\n\u001b[1;32m    179\u001b[0m     \u001b[38;5;28;01mexcept\u001b[39;00m (Neo4jError, ServiceUnavailable, SessionExpired) \u001b[38;5;28;01mas\u001b[39;00m exc:\n\u001b[1;32m    180\u001b[0m         \u001b[38;5;28;01massert\u001b[39;00m \u001b[38;5;129;01mnot\u001b[39;00m asyncio\u001b[38;5;241m.\u001b[39miscoroutinefunction(\u001b[38;5;28mself\u001b[39m\u001b[38;5;241m.\u001b[39m__on_error)\n",
      "File \u001b[0;32m~/dev/crypto-projects/arbitrum-data/env/lib/python3.10/site-packages/neo4j/_sync/io/_bolt.py:849\u001b[0m, in \u001b[0;36mBolt.fetch_message\u001b[0;34m(self)\u001b[0m\n\u001b[1;32m    845\u001b[0m \u001b[38;5;66;03m# Receive exactly one message\u001b[39;00m\n\u001b[1;32m    846\u001b[0m tag, fields \u001b[38;5;241m=\u001b[39m \u001b[38;5;28mself\u001b[39m\u001b[38;5;241m.\u001b[39minbox\u001b[38;5;241m.\u001b[39mpop(\n\u001b[1;32m    847\u001b[0m     hydration_hooks\u001b[38;5;241m=\u001b[39m\u001b[38;5;28mself\u001b[39m\u001b[38;5;241m.\u001b[39mresponses[\u001b[38;5;241m0\u001b[39m]\u001b[38;5;241m.\u001b[39mhydration_hooks\n\u001b[1;32m    848\u001b[0m )\n\u001b[0;32m--> 849\u001b[0m res \u001b[38;5;241m=\u001b[39m \u001b[38;5;28;43mself\u001b[39;49m\u001b[38;5;241;43m.\u001b[39;49m\u001b[43m_process_message\u001b[49m\u001b[43m(\u001b[49m\u001b[43mtag\u001b[49m\u001b[43m,\u001b[49m\u001b[43m \u001b[49m\u001b[43mfields\u001b[49m\u001b[43m)\u001b[49m\n\u001b[1;32m    850\u001b[0m \u001b[38;5;28mself\u001b[39m\u001b[38;5;241m.\u001b[39midle_since \u001b[38;5;241m=\u001b[39m monotonic()\n\u001b[1;32m    851\u001b[0m \u001b[38;5;28;01mreturn\u001b[39;00m res\n",
      "File \u001b[0;32m~/dev/crypto-projects/arbitrum-data/env/lib/python3.10/site-packages/neo4j/_sync/io/_bolt5.py:369\u001b[0m, in \u001b[0;36mBolt5x0._process_message\u001b[0;34m(self, tag, fields)\u001b[0m\n\u001b[1;32m    367\u001b[0m \u001b[38;5;28mself\u001b[39m\u001b[38;5;241m.\u001b[39m_server_state_manager\u001b[38;5;241m.\u001b[39mstate \u001b[38;5;241m=\u001b[39m \u001b[38;5;28mself\u001b[39m\u001b[38;5;241m.\u001b[39mbolt_states\u001b[38;5;241m.\u001b[39mFAILED\n\u001b[1;32m    368\u001b[0m \u001b[38;5;28;01mtry\u001b[39;00m:\n\u001b[0;32m--> 369\u001b[0m     \u001b[43mresponse\u001b[49m\u001b[38;5;241;43m.\u001b[39;49m\u001b[43mon_failure\u001b[49m\u001b[43m(\u001b[49m\u001b[43msummary_metadata\u001b[49m\u001b[43m \u001b[49m\u001b[38;5;129;43;01mor\u001b[39;49;00m\u001b[43m \u001b[49m\u001b[43m{\u001b[49m\u001b[43m}\u001b[49m\u001b[43m)\u001b[49m\n\u001b[1;32m    370\u001b[0m \u001b[38;5;28;01mexcept\u001b[39;00m (ServiceUnavailable, DatabaseUnavailable):\n\u001b[1;32m    371\u001b[0m     \u001b[38;5;28;01mif\u001b[39;00m \u001b[38;5;28mself\u001b[39m\u001b[38;5;241m.\u001b[39mpool:\n",
      "File \u001b[0;32m~/dev/crypto-projects/arbitrum-data/env/lib/python3.10/site-packages/neo4j/_sync/io/_common.py:245\u001b[0m, in \u001b[0;36mResponse.on_failure\u001b[0;34m(self, metadata)\u001b[0m\n\u001b[1;32m    243\u001b[0m handler \u001b[38;5;241m=\u001b[39m \u001b[38;5;28mself\u001b[39m\u001b[38;5;241m.\u001b[39mhandlers\u001b[38;5;241m.\u001b[39mget(\u001b[38;5;124m\"\u001b[39m\u001b[38;5;124mon_summary\u001b[39m\u001b[38;5;124m\"\u001b[39m)\n\u001b[1;32m    244\u001b[0m Util\u001b[38;5;241m.\u001b[39mcallback(handler)\n\u001b[0;32m--> 245\u001b[0m \u001b[38;5;28;01mraise\u001b[39;00m Neo4jError\u001b[38;5;241m.\u001b[39mhydrate(\u001b[38;5;241m*\u001b[39m\u001b[38;5;241m*\u001b[39mmetadata)\n",
      "\u001b[0;31mDatabaseError\u001b[0m: {code: Neo.DatabaseError.Statement.ExecutionFailed} {message: At https://github.com/jchanolm/arbitrum-data/blob/main/notebooks/arb-data-pipelines/snapshot/snapshot-scraped-data/arb-snapshot-votes-initial-fixed.csv @ position 51 -  there's a field starting with a quote and whereas it ends that quote there seems to be characters in that field after that ending quote. That isn't supported. This is what I read: 'fileTree\":'}"
     ]
    }
   ],
   "source": [
    "voters_create = \"\"\"\n",
    "LOAD CSV WITH HEADERS FROM 'https://github.com/jchanolm/arbitrum-data/blob/main/notebooks/arb-data-pipelines/snapshot/snapshot-scraped-data/arb-snapshot-votes-initial-fixed.csv' AS row\n",
    "MERGE (w:Wallet {address: row.voter})\n",
    "\"\"\"\n",
    "\n",
    "execute_query(voters)"
   ]
  },
  {
   "cell_type": "code",
   "execution_count": null,
   "id": "8bd578a2-e1d4-4ccf-871d-c643e83cf4a8",
   "metadata": {},
   "outputs": [],
   "source": [
    "voters_connect = \"\"\"\n",
    "LOAD CSV WITH HEADERS FROM 'https://github.com/jchanolm/arbitrum-data/blob/main/notebooks/arb-data-pipelines/snapshot/snapshot-scraped-data/arb-snapshot-votes-initial-fixed.csv' AS row\n",
    "MATCH (w:Wallet {address: row.voter})\n",
    "MATCH (prop:Proposal {id: row.proposalId})\n",
    "MERGE (w)-[r:VOTED]->(prop)\n",
    "\"\"\"\n",
    "\n",
    "execute_query(voters_connect)"
   ]
  },
  {
   "cell_type": "code",
   "execution_count": null,
   "id": "7bbaa52f-5b7a-424a-8854-3d0d3eaeb7d2",
   "metadata": {},
   "outputs": [],
   "source": [
    "### set choice"
   ]
  },
  {
   "cell_type": "code",
   "execution_count": null,
   "id": "c17f6cee-4797-4266-a77c-09020fe25055",
   "metadata": {},
   "outputs": [],
   "source": []
  },
  {
   "cell_type": "code",
   "execution_count": null,
   "id": "3aca1e25-88a9-4aff-858f-6a9a20c16b76",
   "metadata": {},
   "outputs": [],
   "source": [
    "connect_voters_to_proposals = \"\"\"\n",
    "LOAD CSV WITH HEADERS FROM 'https://raw.githubusercontent.com/jchanolm/arbitrum-data/main/notebooks/arb-governance-data/snapshot/snapshot-scraped-data/cleaned_arb_snapshot_votes.csv' AS row\n",
    "MATCH (w:Wallet {address: tolower(row.voter)})\n",
    "MATCH (p:Proposal {id: row.proposalId})\n",
    "MERGE (w)-[:VOTED {choice: row.choice}]->(p)\n",
    "\"\"\"\n",
    "\n",
    "execute_query(connect_voters_to_proposals)"
   ]
  },
  {
   "cell_type": "code",
   "execution_count": null,
   "id": "adaf69de-4565-4a6f-8555-4934cc6e997c",
   "metadata": {},
   "outputs": [],
   "source": [
    "## connect snapshot urls from grant subs\n",
    "\n",
    "connect_snapshot_proposals_to_grantees = \"\"\"\n",
    "connect\n",
    "match (prop:Snapshot:Proposal)\n",
    "match (grantee:Grantee)-[r:GRANTEE]-(grant:GrantInitiative)\n",
    "where r.grantApprovalAction contains prop.id \n",
    "with prop, grantee, grant\n",
    "merge (grant)-[r:PROPROSAL]->(prop)\n",
    "merge (prop)-[r1:APPROVED_FUNDING]->(grantee)\"\"\"\n",
    "\n",
    "execute_query(connect_snapshot_proposals_to_grantees)"
   ]
  }
 ],
 "metadata": {
  "kernelspec": {
   "display_name": "Python 3 (ipykernel)",
   "language": "python",
   "name": "python3"
  },
  "language_info": {
   "codemirror_mode": {
    "name": "ipython",
    "version": 3
   },
   "file_extension": ".py",
   "mimetype": "text/x-python",
   "name": "python",
   "nbconvert_exporter": "python",
   "pygments_lexer": "ipython3",
   "version": "3.10.0"
  }
 },
 "nbformat": 4,
 "nbformat_minor": 5
}
