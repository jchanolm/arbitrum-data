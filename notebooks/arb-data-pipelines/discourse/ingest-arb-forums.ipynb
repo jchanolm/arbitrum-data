{
 "cells": [
  {
   "cell_type": "code",
   "execution_count": 71,
   "id": "24f65dee-a347-40ae-bff8-da16248d69c9",
   "metadata": {},
   "outputs": [],
   "source": [
    "import os \n",
    "import pandas as pd\n",
    "import time\n",
    "import html\n",
    "import csv\n",
    "import re\n",
    "\n",
    "import requests \n",
    "import json\n",
    "import neo4j\n",
    "from neo4j import GraphDatabase\n",
    "\n",
    "from dotenv import load_dotenv\n",
    "\n",
    "load_dotenv()\n",
    "\n",
    "NEO4J_URI = os.getenv('NEO4J_URI')\n",
    "NEO4J_PASS = os.getenv('NEO4J_PASS')\n",
    "neo4j_client = GraphDatabase.driver(NEO4J_URI, auth=('neo4j', NEO4J_PASS))\n",
    "retrieval = \"InitialIngest\"\n",
    "\n",
    "def execute_query(query, params=None, neo4j=neo4j_client):\n",
    "    with neo4j_client.session() as session:\n",
    "        result = session.run(query, parameters=params)\n",
    "        # Convert the result to a DataFrame\n",
    "        records = [record.data() for record in result]\n",
    "        return pd.DataFrame(records)\n"
   ]
  },
  {
   "cell_type": "code",
   "execution_count": 76,
   "id": "655f62d0-d8ad-435e-a0b4-4d0557514355",
   "metadata": {},
   "outputs": [],
   "source": [
    "\n",
    "def clean_text(text):\n",
    "    text = html.unescape(text)\n",
    "    text = re.sub(r'<[^>]+>', '', text)\n",
    "    text = re.sub(r'[“”]', '\"', text)\n",
    "    text = re.sub(r\"[‘’]\", \"'\", text)\n",
    "    text = re.sub(r'[—–]', '-', text)\n",
    "    text = re.sub(r'[^\\x00-\\x7F]+', '', text)\n",
    "    text = re.sub(r'[\\r\\n\\t]+', ' ', text)  \n",
    "    text = text.strip()\n",
    "    \n",
    "    return text\n"
   ]
  },
  {
   "cell_type": "code",
   "execution_count": 39,
   "id": "2ebb8995-aedf-40cb-8153-4bbde524de60",
   "metadata": {},
   "outputs": [],
   "source": [
    "import requests\n",
    "import time\n",
    "\n",
    "def fetch_categories(base_url):\n",
    "    url = f\"{base_url}/categories.json\"\n",
    "    response = requests.get(url)\n",
    "    if response.status_code == 200:\n",
    "        try:\n",
    "            data = response.json()\n",
    "            return data.get('category_list', {}).get('categories', [])\n",
    "        except ValueError:\n",
    "            print(\"Failed to decode JSON.\")\n",
    "            return []\n",
    "    else:\n",
    "        print(f\"Failed to fetch categories: {response.status_code}\")\n",
    "        return []\n",
    "\n",
    "def fetch_topics(base_url, category_slug):\n",
    "    topics = []\n",
    "    page = 0\n",
    "    while True:\n",
    "        url = f\"{base_url}/c/{category_slug}.json?page={page}\"\n",
    "        response = requests.get(url)\n",
    "        if response.status_code != 200:\n",
    "            break\n",
    "        data = response.json()\n",
    "        fetched_topics = data.get(\"topic_list\", {}).get(\"topics\", [])\n",
    "        if not fetched_topics:\n",
    "            break\n",
    "        topics.extend(fetched_topics)\n",
    "        page += 1\n",
    "    return topics\n",
    "\n",
    "def fetch_topic_details(base_url, topic_id):\n",
    "    url = f\"{base_url}/t/{topic_id}.json\"\n",
    "    response = requests.get(url)\n",
    "    time.sleep(.1)  \n",
    "    if response.status_code != 200:\n",
    "        return None\n",
    "        \n",
    "    return response.json()\n",
    "\n",
    "\n",
    "def organize_post_data(base_url, topic_details, category_name):\n",
    "    posts_data = []\n",
    "    posts = topic_details.get(\"post_stream\", {}).get(\"posts\", [])\n",
    "    for post in posts:\n",
    "        post_data = {\n",
    "            \"text\": post.get(\"cooked\", \"\"),\n",
    "            \"title\": topic_details.get(\"title\", \"\"),\n",
    "            \"author\": post.get(\"username\", \"\"),\n",
    "            \"tags\": topic_details.get(\"tags\", []),\n",
    "            \"category\": category_name,  # Include category name\n",
    "            \"topic_id\": topic_details.get(\"id\"),  # Include topic ID\n",
    "            \"url\": f\"{base_url}/t/{topic_details.get('id')}/{post.get('post_number')}\"\n",
    "        }\n",
    "        # Find responses to this post\n",
    "        responses = [response for response in posts if response.get(\"reply_to_post_number\") == post.get(\"post_number\")]\n",
    "        post_data[\"responses\"] = [{\n",
    "            \"text\": response.get(\"cooked\", \"\"),\n",
    "            \"author\": response.get(\"username\", \"\")\n",
    "        } for response in responses]\n",
    "        posts_data.append(post_data)\n",
    "    return posts_data\n"
   ]
  },
  {
   "cell_type": "code",
   "execution_count": 5,
   "id": "db825a85-fc07-4d4d-a186-df1cc8fa8708",
   "metadata": {},
   "outputs": [],
   "source": [
    "def ingest_data(base_url):\n",
    "    categories = fetch_categories(base_url)\n",
    "    all_posts_data = []\n",
    "    for category in categories:\n",
    "        category_slug = category.get('slug')\n",
    "        category_name = category.get('name')\n",
    "        topics = fetch_topics(base_url, category_slug)\n",
    "        for topic in topics:\n",
    "            topic_id = topic.get('id')\n",
    "            topic_details = fetch_topic_details(base_url, topic_id)\n",
    "            if topic_details:\n",
    "                posts_data = organize_post_data(base_url, topic_details, category_name)\n",
    "                all_posts_data.extend(posts_data)\n",
    "    return all_posts_data\n"
   ]
  },
  {
   "cell_type": "code",
   "execution_count": 6,
   "id": "d73d3e28-44b4-4bcc-8bd1-5203ef5f2d44",
   "metadata": {},
   "outputs": [],
   "source": [
    "arb_base_url = \"https://forum.arbitrum.foundation\""
   ]
  },
  {
   "cell_type": "code",
   "execution_count": 7,
   "id": "aa0f70bf-8dcb-4e05-b8fd-b129bc394fa9",
   "metadata": {},
   "outputs": [],
   "source": [
    "data = ingest_data(arb_base_url)"
   ]
  },
  {
   "cell_type": "code",
   "execution_count": 8,
   "id": "28b0202f-e86b-427c-bb83-da7b666a3c7c",
   "metadata": {},
   "outputs": [
    {
     "name": "stdout",
     "output_type": "stream",
     "text": [
      "{'text': '<p>R&amp;D is important for Arbitrum DAO and will have many benefits in the long term, but it is important to look at the ROI on the investment made and priority. The ARB proposed are at a relatively higher side and also it may bring lot of negative energy and power in the hands of few. I would love to see the clear framework with accountabilities to decide on.</p>', 'title': \"Proposal [Non-Constitutional]: Establish the 'Arbitrum Research & Development Collective'\", 'author': 'bubli.eth', 'tags': [], 'category': 'Proposals', 'topic_id': 19899, 'url': 'https://forum.arbitrum.foundation/t/19899/7', 'responses': [{'text': '<p>Hey <a class=\"mention\" href=\"/u/bubli.eth\">@bubli.eth</a> ,</p>\\n<p>The proposal contains several legally enforceable checks &amp; balances together with several powers attributed to the DAOAdvocate (the only member seat that has legally enforceable powers), re. the regulation of the ARDC (Refer to sections on checks and balances, provisions, operational parameters etc.)</p>', 'author': 'Immutablelawyer'}]}\n"
     ]
    }
   ],
   "source": [
    "print(data[420])"
   ]
  },
  {
   "cell_type": "code",
   "execution_count": 9,
   "id": "760b4995-a195-447f-b9fd-fb97b3495984",
   "metadata": {},
   "outputs": [
    {
     "name": "stdout",
     "output_type": "stream",
     "text": [
      "6074\n"
     ]
    }
   ],
   "source": [
    "print(len(data))"
   ]
  },
  {
   "cell_type": "code",
   "execution_count": 85,
   "id": "7d028a2f-7eb7-43e7-8653-3fca010eda3c",
   "metadata": {},
   "outputs": [],
   "source": [
    "## handle nested posts\n",
    "\n",
    "def extract_posts(posts_data):\n",
    "    posts_without_responses = []\n",
    "    for post in posts_data:\n",
    "        post_copy = post.copy()  # Make a copy to avoid modifying the original data\n",
    "        post_copy.pop('responses', None)  # Remove responses\n",
    "        posts_without_responses.append(post_copy)\n",
    "    return posts_without_responses\n",
    "\n",
    "def extract_responses_with_parent_link(posts_data):\n",
    "    responses = []\n",
    "    for post in posts_data:\n",
    "        for response in post.get('responses', []):\n",
    "            response_copy = response.copy()  # Make a copy to avoid modifying the original data\n",
    "            # Add a reference to the parent post\n",
    "            response_copy['parent_post_title'] = post['title']\n",
    "            response_copy['parent_post_id'] = post['topic_id']\n",
    "            responses.append(response_copy)\n",
    "    return responses\n",
    "\n",
    "posts = extract_posts(data)\n",
    "responses = extract_responses_with_parent_link(data)\n"
   ]
  },
  {
   "cell_type": "code",
   "execution_count": 87,
   "id": "b5c53f1e-19d0-428f-b046-90c5760bba6f",
   "metadata": {},
   "outputs": [],
   "source": [
    "\n",
    "posts = [{**d, 'text': clean_text(d['text'])} if 'text' in d and isinstance(d['text'], str) else d for d in posts]\n",
    "responses = [{**d, 'text': clean_text(d['text'])} if 'text' in d and isinstance(d['text'], str) else d for d in posts]\n"
   ]
  },
  {
   "cell_type": "code",
   "execution_count": 89,
   "id": "a6c8a270-0cbb-48f2-aad2-22aea7e900d5",
   "metadata": {},
   "outputs": [],
   "source": [
    "results = {\n",
    "    'posts': posts,\n",
    "    'responses': responses\n",
    "}\n",
    "filname = 'data/all-po\n",
    "with open(output_file_path, 'w', encoding='utf-8') as f:\n",
    "    json.dump(results, f, ensure_ascii=False, indent=4)\n"
   ]
  }
 ],
 "metadata": {
  "kernelspec": {
   "display_name": "Python 3 (ipykernel)",
   "language": "python",
   "name": "python3"
  },
  "language_info": {
   "codemirror_mode": {
    "name": "ipython",
    "version": 3
   },
   "file_extension": ".py",
   "mimetype": "text/x-python",
   "name": "python",
   "nbconvert_exporter": "python",
   "pygments_lexer": "ipython3",
   "version": "3.10.0"
  }
 },
 "nbformat": 4,
 "nbformat_minor": 5
}
