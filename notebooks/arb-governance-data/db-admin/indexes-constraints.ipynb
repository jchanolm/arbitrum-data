{
 "cells": [
  {
   "cell_type": "code",
   "execution_count": null,
   "id": "c68af27f-5b65-40b1-aa1e-1d6ed3913339",
   "metadata": {},
   "outputs": [],
   "source": [
    "CREATE CONSTRAINT wallet_address_unique IF NOT EXISTS FOR (wallet:Wallet) REQUIRE wallet.address IS UNIQUE;\n"
   ]
  }
 ],
 "metadata": {
  "kernelspec": {
   "display_name": "Python 3 (ipykernel)",
   "language": "python",
   "name": "python3"
  },
  "language_info": {
   "codemirror_mode": {
    "name": "ipython",
    "version": 3
   },
   "file_extension": ".py",
   "mimetype": "text/x-python",
   "name": "python",
   "nbconvert_exporter": "python",
   "pygments_lexer": "ipython3",
   "version": "3.10.0"
  }
 },
 "nbformat": 4,
 "nbformat_minor": 5
}
