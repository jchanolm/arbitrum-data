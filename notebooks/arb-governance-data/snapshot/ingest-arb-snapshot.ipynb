{
 "cells": [
  {
   "cell_type": "code",
   "execution_count": 1,
   "id": "5f733032-f22e-4197-889a-62a12e596e7a",
   "metadata": {},
   "outputs": [],
   "source": [
    "import requests\n",
    "import pand\n",
    "as as pd\n",
    "import json\n",
    "import os\n",
    "import re\n",
    "\n",
    "from dotenv import load_dotenv\n",
    "from neo4j import GraphDatabase\n",
    "\n",
    "\n",
    "load_dotenv()\n",
    "\n",
    "\n",
    "NEO4J_URI = os.getenv('NEO4J_URI')\n",
    "NEO4J_PASS = os.getenv('NEO4J_PASS')\n",
    "neo4j_client = GraphDatabase.driver(NEO4J_URI, auth=('neo4j', NEO4J_PASS))\n",
    "retrieval = \"InitialIngest\"\n",
    "\n",
    "def execute_query(query, params=None, neo4j=neo4j_client):\n",
    "    with neo4j_client.session() as session:\n",
    "        result = session.run(query, parameters=params)\n",
    "        # Convert the result to a DataFrame\n",
    "        records = [record.data() for record in result]\n",
    "        return pd.DataFrame(records)\n"
   ]
  },
  {
   "cell_type": "code",
   "execution_count": 2,
   "id": "3655733a-c64e-4137-b00f-566c99a79a31",
   "metadata": {},
   "outputs": [],
   "source": [
    "##\n",
    "def call_snapshot_api(query, snapshot_url=\"https://hub.snapshot.org/graphql\", counter=0):\n",
    "    if counter > 10:\n",
    "        raise Exception(\"Max retries exceeded.\")\n",
    "    response = requests.post(snapshot_url, json={\"query\": query})\n",
    "    if response.status_code == 504:\n",
    "        # Handle Gateway Timeout\n",
    "        return make_api_call(query, snapshot_url, counter=counter + 1)\n",
    "    data = response.json()\n",
    "    if \"errors\" in data:\n",
    "        raise Exception(\"Error in API response: {}\".format(data[\"errors\"]))\n",
    "    return data[\"data\"]\n",
    "\n",
    "\n",
    "def clean_text(text):\n",
    "    text = re.sub(r\"[“”]\", '\"', text)  # Replace smart double quotes\n",
    "    text = re.sub(r\"[‘’]\", \"'\", text)  # Replace smart single quotes\n",
    "    text = re.sub(r\"[—–]\", \"-\", text)\n",
    "    text = re.sub(r\"[^\\x00-\\x7F]+\", \"\", text)\n",
    "    \n",
    "    return text"
   ]
  },
  {
   "cell_type": "code",
   "execution_count": 15,
   "id": "f4a8b45b-5e15-4e91-87e4-6486ea1ac114",
   "metadata": {},
   "outputs": [],
   "source": [
    "arb_space_id = \"arbitrumfoundation.eth\"  # Replace with the actual space ID\n",
    "\n",
    "spaces_query = f\"\"\"\n",
    "{{\n",
    "    space(id: \"{arb_space_id}\") {{\n",
    "        id\n",
    "        name\n",
    "        about\n",
    "        avatar\n",
    "        website\n",
    "        twitter\n",
    "        github\n",
    "        network\n",
    "        symbol\n",
    "        strategies {{\n",
    "            name\n",
    "            params\n",
    "        }}\n",
    "        admins\n",
    "        members\n",
    "    }}\n",
    "}}\n",
    "\"\"\" \n",
    "\n",
    "proposals_query = f\"\"\"\n",
    "{{\n",
    "    proposals(\n",
    "        where: {{\n",
    "            space_in: [\"{arb_space_id}\"]\n",
    "        }},\n",
    "        first: 1000\n",
    "    ) {{\n",
    "        id\n",
    "        title\n",
    "        body\n",
    "        choices\n",
    "        start\n",
    "        end\n",
    "        state\n",
    "        author\n",
    "    }}\n",
    "}}\n",
    "\"\"\" \n",
    "\n",
    "votes_query = f\"\"\"\n",
    "{{\n",
    "    votes(\n",
    "        where: {{\n",
    "            proposal: \"{arb_space_id}\"\n",
    "        }},\n",
    "        first: 10\n",
    "    ) {{\n",
    "        id\n",
    "        voter\n",
    "        choice\n",
    "    }}\n",
    "}}\n",
    "\"\"\""
   ]
  },
  {
   "cell_type": "code",
   "execution_count": 10,
   "id": "70b9a27d-f19f-4e38-990a-c29392d0b5ae",
   "metadata": {},
   "outputs": [
    {
     "name": "stdout",
     "output_type": "stream",
     "text": [
      "{\n",
      "    \"space\": {\n",
      "        \"id\": \"arbitrumfoundation.eth\",\n",
      "        \"name\": \"Arbitrum DAO\",\n",
      "        \"about\": \"The official snapshot space for the Arbitrum DAO\",\n",
      "        \"avatar\": \"ipfs://bafkreiejp7kjzjm4mlck45xcfup5lha7wrgqlyghvrtvpjpu5sfb6rl2ei\",\n",
      "        \"website\": \"https://arbitrum.foundation\",\n",
      "        \"twitter\": \"arbitrum\",\n",
      "        \"github\": null,\n",
      "        \"network\": \"42161\",\n",
      "        \"symbol\": \"ARB\",\n",
      "        \"strategies\": [\n",
      "            {\n",
      "                \"name\": \"erc20-votes\",\n",
      "                \"params\": {\n",
      "                    \"symbol\": \"ARB\",\n",
      "                    \"address\": \"0x912CE59144191C1204E64559FE8253a0e49E6548\",\n",
      "                    \"decimals\": 18\n",
      "                }\n",
      "            }\n",
      "        ],\n",
      "        \"admins\": [],\n",
      "        \"members\": []\n",
      "    }\n",
      "}\n"
     ]
    }
   ],
   "source": [
    "space_data = call_snapshot_api(spaces_query)\n",
    "print(json.dumps(space_data, indent=4))\n"
   ]
  },
  {
   "cell_type": "code",
   "execution_count": null,
   "id": "45532b5c-663f-48f1-9df3-c55edfe407f3",
   "metadata": {},
   "outputs": [],
   "source": [
    "## create snapshot space\n",
    "\n",
    "params = {\n",
    "    'spaceId': space_data['space']['id'],\n",
    "    'name': space_data['space']['name'],\n",
    "    'website': space_data['space']['website'],\n",
    "    'twitter': space_data['space']['twitter'],\n",
    "    'strategyToken': space_data['space']['strategies'][0]['params']['address']\n",
    "}\n",
    "\n",
    "space_query = \"\"\"\n",
    "    match (entity:Entity {name: \"Arbitrum Foundation\"}) \n",
    "    with entity\n",
    "    merge (space:Snapshot:Space {spaceId: $spaceId}) \n",
    "    set space.name = $name\n",
    "    set space.website = $website\n",
    "    set space.twitter = $twitter \n",
    "    set space.strategyToken = $strategyToken\n",
    "    with entity, space \n",
    "    merge (entity)-[r:ACCOUNT]->(space)\n",
    "    return entity, r, space\n",
    "\"\"\"\n",
    "\n",
    "execute_query(space_query, params)"
   ]
  },
  {
   "cell_type": "code",
   "execution_count": null,
   "id": "bd6465f8-88f8-445d-8f03-4d09679d484c",
   "metadata": {},
   "outputs": [],
   "source": [
    "# dump"
   ]
  },
  {
   "cell_type": "code",
   "execution_count": 16,
   "id": "bd682293-6fdc-457c-9ca8-ef1d520f80ec",
   "metadata": {
    "scrolled": true
   },
   "outputs": [
    {
     "data": {
      "text/plain": [
       "dict_keys(['id', 'title', 'body', 'choices', 'start', 'end', 'state', 'author'])"
      ]
     },
     "execution_count": 16,
     "metadata": {},
     "output_type": "execute_result"
    }
   ],
   "source": [
    "proposals_data = call_snapshot_api(proposals_query)\n",
    "\n",
    "proposals_data['proposals'][0].keys()"
   ]
  },
  {
   "cell_type": "code",
   "execution_count": 17,
   "id": "d1f94f5c-f935-4029-acae-8cdd3a4c3a87",
   "metadata": {},
   "outputs": [],
   "source": [
    "proposals_data_df = pd.DataFrame(proposals_data['proposals'])"
   ]
  },
  {
   "cell_type": "code",
   "execution_count": null,
   "id": "876c8f24-c2e6-4fb7-8d20-4eb49f421c90",
   "metadata": {},
   "outputs": [],
   "source": [
    "proposals_data_df.to_csv(\"snapshot-scraped-data/arb-snapshot-proposals-20240303.csv\")"
   ]
  },
  {
   "cell_type": "code",
   "execution_count": 11,
   "id": "ebf987bb-dace-401d-918a-28ee465c2afe",
   "metadata": {},
   "outputs": [
    {
     "ename": "NameError",
     "evalue": "name 'proposals_data' is not defined",
     "output_type": "error",
     "traceback": [
      "\u001b[0;31m---------------------------------------------------------------------------\u001b[0m",
      "\u001b[0;31mNameError\u001b[0m                                 Traceback (most recent call last)",
      "Cell \u001b[0;32mIn[11], line 2\u001b[0m\n\u001b[1;32m      1\u001b[0m counter \u001b[38;5;241m=\u001b[39m \u001b[38;5;241m0\u001b[39m \n\u001b[0;32m----> 2\u001b[0m total \u001b[38;5;241m=\u001b[39m \u001b[38;5;28mlen\u001b[39m(\u001b[43mproposals_data\u001b[49m[\u001b[38;5;124m'\u001b[39m\u001b[38;5;124mproposals\u001b[39m\u001b[38;5;124m'\u001b[39m])\n\u001b[1;32m      4\u001b[0m \u001b[38;5;66;03m## create proposals\u001b[39;00m\n\u001b[1;32m      5\u001b[0m \u001b[38;5;28;01mfor\u001b[39;00m i \u001b[38;5;129;01min\u001b[39;00m proposals_data[\u001b[38;5;124m'\u001b[39m\u001b[38;5;124mproposals\u001b[39m\u001b[38;5;124m'\u001b[39m]:\n",
      "\u001b[0;31mNameError\u001b[0m: name 'proposals_data' is not defined"
     ]
    }
   ],
   "source": [
    "counter = 0 \n",
    "total = len(proposals_data['proposals'])\n",
    "\n",
    "## create proposals\n",
    "for i in proposals_data['proposals']:\n",
    "    counter += 1\n",
    "    print(f\"Ingesting proposal {str(counter)} out of {str(total)}...\")\n",
    "    \n",
    "    name = clean_text(i['title'])\n",
    "    text = clean_text(i['body'])\n",
    "    authorAddress = i['author'].lower()\n",
    "    props_params = {\n",
    "        'id': i['id'],\n",
    "        'name': i['title'], \n",
    "        'startDt': i['start'],\n",
    "        'endDt': i['end'],\n",
    "        'choices': i['choices'], \n",
    "        'name': name, \n",
    "        'text': text,\n",
    "        'authorAddress': authorAddress\n",
    "    }\n",
    "    props_query = \"\"\"\n",
    "    merge (prop:Snapshot:Proposal {id: $id})\n",
    "    set prop.name = $name\n",
    "    set prop.text = $text\n",
    "    set prop.startDt = $startDt\n",
    "    set prop.endDt = $endDt\n",
    "    set prop.choices = $choices\n",
    "    \"\"\"\n",
    "    execute_query(props_query, props_params)"
   ]
  },
  {
   "cell_type": "code",
   "execution_count": null,
   "id": "724f6076-1525-47ab-8551-55cda592f046",
   "metadata": {},
   "outputs": [],
   "source": [
    "### connect\n",
    "\n",
    "execute_query(\"\"\"match (prop:Proposal) match (space:Space)\n",
    "with prop, space\n",
    "merge (space)-[r:PROPOSAL]->(proposal)\"\"\")\n",
    "\n"
   ]
  },
  {
   "cell_type": "code",
   "execution_count": null,
   "id": "85764a64-b638-4c9e-836f-45e9dc502fe6",
   "metadata": {},
   "outputs": [],
   "source": [
    "## create and link authors\n",
    "counter = 0 \n",
    "total = len(proposals_data['proposals'])\n",
    "\n",
    "## create proposals\n",
    "for i in proposals_data['proposals']:\n",
    "    counter += 1\n",
    "    print(f\"Ingesting record {str(counter)} out of {str(total)}...\")\n",
    "    \n",
    "    authorAddress = i['author'].lower()\n",
    "\n",
    "    walletParams = {\n",
    "        'authorAddress' : authorAddress,\n",
    "        'proposalId': i['id']\n",
    "    }\n",
    "\n",
    "    walletsQuery = \"\"\"\n",
    "    merge (wallet:Wallet {address: $authorAddress}) \n",
    "    with wallet \n",
    "    match (proposal:Proposal:Snapshot {id: $proposalId}) \n",
    "    with wallet, proposal \n",
    "    merge (wallet)-[r:AUTHOR]->(proposal)\n",
    "    \"\"\"\n",
    "    execute_query(walletsQuery, walletParams)"
   ]
  },
  {
   "cell_type": "code",
   "execution_count": null,
   "id": "b1e2e678-d813-4961-8807-ac2e2b3ad91b",
   "metadata": {},
   "outputs": [],
   "source": [
    "## cool voters"
   ]
  },
  {
   "cell_type": "code",
   "execution_count": 18,
   "id": "75992f3b-f8f0-4fdd-9c67-bdad7f625f79",
   "metadata": {},
   "outputs": [],
   "source": [
    "def get_votes_for_proposals(proposals_response):\n",
    "    votes_query_template = \"\"\"\n",
    "    {{\n",
    "        votes (\n",
    "            first: 1000,\n",
    "            where: {{\n",
    "                proposal_in: {proposal_ids}\n",
    "            }}\n",
    "        ) {{\n",
    "            id\n",
    "            voter\n",
    "            choice\n",
    "            proposal {{\n",
    "                id\n",
    "            }}\n",
    "        }}\n",
    "    }}\n",
    "    \"\"\"\n",
    "    # Assuming proposals_response is the full response from the proposals query\n",
    "    # and contains a list of proposals under ['data']['proposals']\n",
    "    proposal_ids = [proposal[\"id\"] for proposal in proposals_response['proposals']]\n",
    "    votes = []\n",
    "    for proposal_id in proposal_ids:\n",
    "        query = votes_query_template.format(proposal_ids=json.dumps([proposal_id]))\n",
    "        response = requests.post(\"https://hub.snapshot.org/graphql\", json={\"query\": query})\n",
    "        if response.status_code == 200:\n",
    "            data = response.json()[\"data\"][\"votes\"]\n",
    "            votes.extend(data)\n",
    "    return votes\n",
    "\n",
    "proposal_votes = get_votes_for_proposals(proposals_data)"
   ]
  },
  {
   "cell_type": "code",
   "execution_count": 19,
   "id": "b7ffc448-02af-42a4-958a-7a1da6dfa9ae",
   "metadata": {},
   "outputs": [],
   "source": [
    "proposal_votes_df = pd.DataFrame(proposal_votes)\n"
   ]
  },
  {
   "cell_type": "code",
   "execution_count": 20,
   "id": "4421ef34-da9f-482d-8d35-3c4066ffc6e8",
   "metadata": {},
   "outputs": [],
   "source": [
    "type(proposal_votes_df.iloc[0]['proposal'])\n",
    "proposal_votes_df['proposalId'] = proposal_votes_df['proposal'].apply(lambda x: x['id'])\n"
   ]
  },
  {
   "cell_type": "code",
   "execution_count": 33,
   "id": "b1c93873-e902-41c5-b3f8-1d30eda704b7",
   "metadata": {},
   "outputs": [
    {
     "data": {
      "text/plain": [
       "'0x24344ab10eb905a4d7fa5885c6f681290e765a08a5f558ff6cfc5fedab42afb6'"
      ]
     },
     "execution_count": 33,
     "metadata": {},
     "output_type": "execute_result"
    }
   ],
   "source": [
    "proposal_votes_df_upload = proposal_votes_df[['voter', 'choice', 'proposalId']]\n",
    "proposal_votes_df_upload.iloc[51].proposalId"
   ]
  },
  {
   "cell_type": "code",
   "execution_count": 25,
   "id": "a101ce35-b39f-42e8-b73c-7fb314b48bec",
   "metadata": {},
   "outputs": [],
   "source": [
    "proposal_votes_df_upload.to_csv(\"snapshot-scraped-data/arb-snapshot-votes.csv\")"
   ]
  },
  {
   "cell_type": "code",
   "execution_count": 22,
   "id": "745292f8-1935-41be-acd7-a7f13ccd3123",
   "metadata": {},
   "outputs": [
    {
     "ename": "NameError",
     "evalue": "name 'proposal_votes_df' is not defined",
     "output_type": "error",
     "traceback": [
      "\u001b[0;31m---------------------------------------------------------------------------\u001b[0m",
      "\u001b[0;31mNameError\u001b[0m                                 Traceback (most recent call last)",
      "Cell \u001b[0;32mIn[22], line 1\u001b[0m\n\u001b[0;32m----> 1\u001b[0m \u001b[43mproposal_votes_df\u001b[49m\u001b[38;5;241m.\u001b[39mhead(\u001b[38;5;241m3\u001b[39m)\n",
      "\u001b[0;31mNameError\u001b[0m: name 'proposal_votes_df' is not defined"
     ]
    }
   ],
   "source": [
    "proposal_votes_df.head(3)"
   ]
  },
  {
   "cell_type": "code",
   "execution_count": 9,
   "id": "a1b6f8be-19d3-46e0-89c3-f77e1c762bae",
   "metadata": {},
   "outputs": [
    {
     "name": "stderr",
     "output_type": "stream",
     "text": [
      "/var/folders/qc/ppx509pn4ts18m91_wqc1f7r0000gn/T/ipykernel_46802/2363375264.py:4: DtypeWarning: Columns (3) have mixed types. Specify dtype option on import or set low_memory=False.\n",
      "  shortcut = pd.read_csv('snapshot-scraped-data/cleaned_arb-snapshot-votes.csv')\n"
     ]
    },
    {
     "data": {
      "text/html": [
       "<div>\n",
       "<style scoped>\n",
       "    .dataframe tbody tr th:only-of-type {\n",
       "        vertical-align: middle;\n",
       "    }\n",
       "\n",
       "    .dataframe tbody tr th {\n",
       "        vertical-align: top;\n",
       "    }\n",
       "\n",
       "    .dataframe thead th {\n",
       "        text-align: right;\n",
       "    }\n",
       "</style>\n",
       "<table border=\"1\" class=\"dataframe\">\n",
       "  <thead>\n",
       "    <tr style=\"text-align: right;\">\n",
       "      <th></th>\n",
       "      <th>Unnamed: 0</th>\n",
       "      <th>id</th>\n",
       "      <th>voter</th>\n",
       "      <th>choice</th>\n",
       "      <th>proposal</th>\n",
       "      <th>proposalId</th>\n",
       "    </tr>\n",
       "  </thead>\n",
       "  <tbody>\n",
       "    <tr>\n",
       "      <th>0</th>\n",
       "      <td>0</td>\n",
       "      <td>0x57b8bbee33c1147d0249960b81435f11207dfd272959...</td>\n",
       "      <td>0x7EA01C31763F7C1cB38cEdc12021FE6599B5AAb7</td>\n",
       "      <td>1</td>\n",
       "      <td>{'id': '0x24344ab10eb905a4d7fa5885c6f681290e76...</td>\n",
       "      <td>0x24344ab10eb905a4d7fa5885c6f681290e765a08a5f5...</td>\n",
       "    </tr>\n",
       "    <tr>\n",
       "      <th>1</th>\n",
       "      <td>1</td>\n",
       "      <td>0xf374bdbd9960662ff16b410893b7d5304ff6975d7412...</td>\n",
       "      <td>0x270720639Ce66cE236D67556eDAbe425037e52AE</td>\n",
       "      <td>1</td>\n",
       "      <td>{'id': '0x24344ab10eb905a4d7fa5885c6f681290e76...</td>\n",
       "      <td>0x24344ab10eb905a4d7fa5885c6f681290e765a08a5f5...</td>\n",
       "    </tr>\n",
       "    <tr>\n",
       "      <th>2</th>\n",
       "      <td>2</td>\n",
       "      <td>0x8ca9eb6e2b29ac5befdb28ec0553d340eafde21421a5...</td>\n",
       "      <td>0xf0b7d9b3911aad8a342f0F76dD7b37899D9D2D9b</td>\n",
       "      <td>1</td>\n",
       "      <td>{'id': '0x24344ab10eb905a4d7fa5885c6f681290e76...</td>\n",
       "      <td>0x24344ab10eb905a4d7fa5885c6f681290e765a08a5f5...</td>\n",
       "    </tr>\n",
       "  </tbody>\n",
       "</table>\n",
       "</div>"
      ],
      "text/plain": [
       "   Unnamed: 0                                                 id  \\\n",
       "0           0  0x57b8bbee33c1147d0249960b81435f11207dfd272959...   \n",
       "1           1  0xf374bdbd9960662ff16b410893b7d5304ff6975d7412...   \n",
       "2           2  0x8ca9eb6e2b29ac5befdb28ec0553d340eafde21421a5...   \n",
       "\n",
       "                                        voter choice  \\\n",
       "0  0x7EA01C31763F7C1cB38cEdc12021FE6599B5AAb7      1   \n",
       "1  0x270720639Ce66cE236D67556eDAbe425037e52AE      1   \n",
       "2  0xf0b7d9b3911aad8a342f0F76dD7b37899D9D2D9b      1   \n",
       "\n",
       "                                            proposal  \\\n",
       "0  {'id': '0x24344ab10eb905a4d7fa5885c6f681290e76...   \n",
       "1  {'id': '0x24344ab10eb905a4d7fa5885c6f681290e76...   \n",
       "2  {'id': '0x24344ab10eb905a4d7fa5885c6f681290e76...   \n",
       "\n",
       "                                          proposalId  \n",
       "0  0x24344ab10eb905a4d7fa5885c6f681290e765a08a5f5...  \n",
       "1  0x24344ab10eb905a4d7fa5885c6f681290e765a08a5f5...  \n",
       "2  0x24344ab10eb905a4d7fa5885c6f681290e765a08a5f5...  "
      ]
     },
     "execution_count": 9,
     "metadata": {},
     "output_type": "execute_result"
    }
   ],
   "source": [
    "## weird issues with load csv\n",
    "### maybe need to switch to load json\n",
    "\n",
    "shortcut = pd.read_csv('snapshot-scraped-data/cleaned_arb-snapshot-votes.csv')\n",
    "shortcut.head(3)"
   ]
  },
  {
   "cell_type": "code",
   "execution_count": 10,
   "id": "e275addb-bb5c-4545-8245-0197956d7d73",
   "metadata": {},
   "outputs": [],
   "source": [
    "shortcut_clean = shortcut[['voter', 'choice', 'proposalId']]\n",
    "shortcut.to_csv('snapshot-scraped-data/cleaned_arb_snapshot_votes.csv')\n"
   ]
  },
  {
   "cell_type": "code",
   "execution_count": 11,
   "id": "a6638f79-966d-4395-a961-4eb9fd0e9eb7",
   "metadata": {},
   "outputs": [
    {
     "data": {
      "text/html": [
       "<div>\n",
       "<style scoped>\n",
       "    .dataframe tbody tr th:only-of-type {\n",
       "        vertical-align: middle;\n",
       "    }\n",
       "\n",
       "    .dataframe tbody tr th {\n",
       "        vertical-align: top;\n",
       "    }\n",
       "\n",
       "    .dataframe thead th {\n",
       "        text-align: right;\n",
       "    }\n",
       "</style>\n",
       "<table border=\"1\" class=\"dataframe\">\n",
       "  <thead>\n",
       "    <tr style=\"text-align: right;\">\n",
       "      <th></th>\n",
       "      <th>voter</th>\n",
       "      <th>choice</th>\n",
       "      <th>proposalId</th>\n",
       "    </tr>\n",
       "  </thead>\n",
       "  <tbody>\n",
       "    <tr>\n",
       "      <th>0</th>\n",
       "      <td>0x7EA01C31763F7C1cB38cEdc12021FE6599B5AAb7</td>\n",
       "      <td>1</td>\n",
       "      <td>0x24344ab10eb905a4d7fa5885c6f681290e765a08a5f5...</td>\n",
       "    </tr>\n",
       "    <tr>\n",
       "      <th>1</th>\n",
       "      <td>0x270720639Ce66cE236D67556eDAbe425037e52AE</td>\n",
       "      <td>1</td>\n",
       "      <td>0x24344ab10eb905a4d7fa5885c6f681290e765a08a5f5...</td>\n",
       "    </tr>\n",
       "    <tr>\n",
       "      <th>2</th>\n",
       "      <td>0xf0b7d9b3911aad8a342f0F76dD7b37899D9D2D9b</td>\n",
       "      <td>1</td>\n",
       "      <td>0x24344ab10eb905a4d7fa5885c6f681290e765a08a5f5...</td>\n",
       "    </tr>\n",
       "  </tbody>\n",
       "</table>\n",
       "</div>"
      ],
      "text/plain": [
       "                                        voter choice  \\\n",
       "0  0x7EA01C31763F7C1cB38cEdc12021FE6599B5AAb7      1   \n",
       "1  0x270720639Ce66cE236D67556eDAbe425037e52AE      1   \n",
       "2  0xf0b7d9b3911aad8a342f0F76dD7b37899D9D2D9b      1   \n",
       "\n",
       "                                          proposalId  \n",
       "0  0x24344ab10eb905a4d7fa5885c6f681290e765a08a5f5...  \n",
       "1  0x24344ab10eb905a4d7fa5885c6f681290e765a08a5f5...  \n",
       "2  0x24344ab10eb905a4d7fa5885c6f681290e765a08a5f5...  "
      ]
     },
     "execution_count": 11,
     "metadata": {},
     "output_type": "execute_result"
    }
   ],
   "source": []
  },
  {
   "cell_type": "code",
   "execution_count": null,
   "id": "adaf69de-4565-4a6f-8555-4934cc6e997c",
   "metadata": {},
   "outputs": [],
   "source": [
    "## connect snapshot urls from grant subs\n",
    "\n",
    "match (prop:Snapshot:Proposal)\n",
    "match (grantee:Grantee)-[r:GRANTEE]-(grant:GrantInitiative)\n",
    "where r.grantApprovalAction contains prop.id \n",
    "with prop, grantee, grant\n",
    "merge (grant)-[r:PROPROSAL]->(prop)\n",
    "merge (prop)-[r1:APPROVED_FUNDING]->(grantee)"
   ]
  },
  {
   "cell_type": "code",
   "execution_count": null,
   "id": "52048ffc-5df8-48bd-adab-41ba495c0084",
   "metadata": {},
   "outputs": [],
   "source": [
    "proposal_votes_df = pd.DataFrame(proposal_votes)"
   ]
  },
  {
   "cell_type": "code",
   "execution_count": null,
   "id": "a5ebe270-a4b1-4d50-ab3f-b8770cb0f6fc",
   "metadata": {},
   "outputs": [],
   "source": [
    "proposal_votes_df.to_csv('snapshot-scraped-data/arb-snapshot-votes.csv')"
   ]
  }
 ],
 "metadata": {
  "kernelspec": {
   "display_name": "Python 3 (ipykernel)",
   "language": "python",
   "name": "python3"
  },
  "language_info": {
   "codemirror_mode": {
    "name": "ipython",
    "version": 3
   },
   "file_extension": ".py",
   "mimetype": "text/x-python",
   "name": "python",
   "nbconvert_exporter": "python",
   "pygments_lexer": "ipython3",
   "version": "3.10.0"
  }
 },
 "nbformat": 4,
 "nbformat_minor": 5
}
