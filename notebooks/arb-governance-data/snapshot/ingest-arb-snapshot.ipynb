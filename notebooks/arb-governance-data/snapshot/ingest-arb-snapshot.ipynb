{
 "cells": [
  {
   "cell_type": "code",
   "execution_count": 27,
   "id": "5f733032-f22e-4197-889a-62a12e596e7a",
   "metadata": {},
   "outputs": [],
   "source": [
    "import requests\n",
    "import pandas as pd\n",
    "import json\n",
    "import os\n",
    "import re\n",
    "\n",
    "from dotenv import load_dotenv\n",
    "from neo4j import GraphDatabase\n",
    "\n",
    "\n",
    "load_dotenv()\n",
    "\n",
    "\n",
    "NEO4J_URI = os.getenv('NEO4J_URI')\n",
    "NEO4J_PASS = os.getenv('NEO4J_PASS')\n",
    "neo4j_client = GraphDatabase.driver(NEO4J_URI, auth=('neo4j', NEO4J_PASS))\n",
    "retrieval = \"InitialIngest\"\n",
    "\n",
    "def execute_query(query, params=None, neo4j=neo4j_client):\n",
    "    with neo4j_client.session() as session:\n",
    "        result = session.run(query, parameters=params)\n",
    "        # Convert the result to a DataFrame\n",
    "        records = [record.data() for record in result]\n",
    "        return pd.DataFrame(records)\n"
   ]
  },
  {
   "cell_type": "code",
   "execution_count": 14,
   "id": "3655733a-c64e-4137-b00f-566c99a79a31",
   "metadata": {},
   "outputs": [],
   "source": [
    "##\n",
    "def call_snapshot_api(query, snapshot_url=\"https://hub.snapshot.org/graphql\", counter=0):\n",
    "    if counter > 10:\n",
    "        raise Exception(\"Max retries exceeded.\")\n",
    "    response = requests.post(snapshot_url, json={\"query\": query})\n",
    "    if response.status_code == 504:\n",
    "        # Handle Gateway Timeout\n",
    "        return make_api_call(query, snapshot_url, counter=counter + 1)\n",
    "    data = response.json()\n",
    "    if \"errors\" in data:\n",
    "        raise Exception(\"Error in API response: {}\".format(data[\"errors\"]))\n",
    "    return data[\"data\"]\n",
    "\n",
    "\n",
    "def clean_text(text):\n",
    "    text = re.sub(r\"[“”]\", '\"', text)  # Replace smart double quotes\n",
    "    text = re.sub(r\"[‘’]\", \"'\", text)  # Replace smart single quotes\n",
    "    text = re.sub(r\"[—–]\", \"-\", text)\n",
    "    text = re.sub(r\"[^\\x00-\\x7F]+\", \"\", text)\n",
    "    \n",
    "    return text"
   ]
  },
  {
   "cell_type": "code",
   "execution_count": 15,
   "id": "f4a8b45b-5e15-4e91-87e4-6486ea1ac114",
   "metadata": {},
   "outputs": [],
   "source": [
    "arb_space_id = \"arbitrumfoundation.eth\"  # Replace with the actual space ID\n",
    "\n",
    "spaces_query = f\"\"\"\n",
    "{{\n",
    "    space(id: \"{arb_space_id}\") {{\n",
    "        id\n",
    "        name\n",
    "        about\n",
    "        avatar\n",
    "        website\n",
    "        twitter\n",
    "        github\n",
    "        network\n",
    "        symbol\n",
    "        strategies {{\n",
    "            name\n",
    "            params\n",
    "        }}\n",
    "        admins\n",
    "        members\n",
    "    }}\n",
    "}}\n",
    "\"\"\" \n",
    "\n",
    "proposals_query = f\"\"\"\n",
    "{{\n",
    "    proposals(\n",
    "        where: {{\n",
    "            space_in: [\"{arb_space_id}\"]\n",
    "        }},\n",
    "        first: 1000\n",
    "    ) {{\n",
    "        id\n",
    "        title\n",
    "        body\n",
    "        choices\n",
    "        start\n",
    "        end\n",
    "        state\n",
    "        author\n",
    "    }}\n",
    "}}\n",
    "\"\"\" \n",
    "\n",
    "votes_query = f\"\"\"\n",
    "{{\n",
    "    votes(\n",
    "        where: {{\n",
    "            proposal: \"{arb_space_id}\"\n",
    "        }},\n",
    "        first: 10\n",
    "    ) {{\n",
    "        id\n",
    "        voter\n",
    "        choice\n",
    "    }}\n",
    "}}\n",
    "\"\"\""
   ]
  },
  {
   "cell_type": "code",
   "execution_count": 10,
   "id": "70b9a27d-f19f-4e38-990a-c29392d0b5ae",
   "metadata": {},
   "outputs": [
    {
     "name": "stdout",
     "output_type": "stream",
     "text": [
      "{\n",
      "    \"space\": {\n",
      "        \"id\": \"arbitrumfoundation.eth\",\n",
      "        \"name\": \"Arbitrum DAO\",\n",
      "        \"about\": \"The official snapshot space for the Arbitrum DAO\",\n",
      "        \"avatar\": \"ipfs://bafkreiejp7kjzjm4mlck45xcfup5lha7wrgqlyghvrtvpjpu5sfb6rl2ei\",\n",
      "        \"website\": \"https://arbitrum.foundation\",\n",
      "        \"twitter\": \"arbitrum\",\n",
      "        \"github\": null,\n",
      "        \"network\": \"42161\",\n",
      "        \"symbol\": \"ARB\",\n",
      "        \"strategies\": [\n",
      "            {\n",
      "                \"name\": \"erc20-votes\",\n",
      "                \"params\": {\n",
      "                    \"symbol\": \"ARB\",\n",
      "                    \"address\": \"0x912CE59144191C1204E64559FE8253a0e49E6548\",\n",
      "                    \"decimals\": 18\n",
      "                }\n",
      "            }\n",
      "        ],\n",
      "        \"admins\": [],\n",
      "        \"members\": []\n",
      "    }\n",
      "}\n"
     ]
    }
   ],
   "source": [
    "space_data = call_snapshot_api(spaces_query)\n",
    "print(json.dumps(space_data, indent=4))\n"
   ]
  },
  {
   "cell_type": "code",
   "execution_count": null,
   "id": "45532b5c-663f-48f1-9df3-c55edfe407f3",
   "metadata": {},
   "outputs": [],
   "source": [
    "## create snapshot space\n",
    "\n",
    "params = {\n",
    "    'spaceId': space_data['space']['id'],\n",
    "    'name': space_data['space']['name'],\n",
    "    'website': space_data['space']['website'],\n",
    "    'twitter': space_data['space']['twitter'],\n",
    "    'strategyToken': space_data['space']['strategies'][0]['params']['address']\n",
    "}\n",
    "\n",
    "space_query = \"\"\"\n",
    "    match (entity:Entity {name: \"Arbitrum Foundation\"}) \n",
    "    with entity\n",
    "    merge (space:Snapshot:Space {spaceId: $spaceId}) \n",
    "    set space.name = $name\n",
    "    set space.website = $website\n",
    "    set space.twitter = $twitter \n",
    "    set space.strategyToken = $strategyToken\n",
    "    with entity, space \n",
    "    merge (entity)-[r:ACCOUNT]->(space)\n",
    "    return entity, r, space\n",
    "\"\"\"\n",
    "\n",
    "execute_query(space_query, params)"
   ]
  },
  {
   "cell_type": "code",
   "execution_count": null,
   "id": "bd6465f8-88f8-445d-8f03-4d09679d484c",
   "metadata": {},
   "outputs": [],
   "source": [
    "# dump"
   ]
  },
  {
   "cell_type": "code",
   "execution_count": 16,
   "id": "bd682293-6fdc-457c-9ca8-ef1d520f80ec",
   "metadata": {
    "scrolled": true
   },
   "outputs": [
    {
     "data": {
      "text/plain": [
       "dict_keys(['id', 'title', 'body', 'choices', 'start', 'end', 'state', 'author'])"
      ]
     },
     "execution_count": 16,
     "metadata": {},
     "output_type": "execute_result"
    }
   ],
   "source": [
    "proposals_data = call_snapshot_api(proposals_query)\n",
    "\n",
    "proposals_data['proposals'][0].keys()"
   ]
  },
  {
   "cell_type": "code",
   "execution_count": 17,
   "id": "d1f94f5c-f935-4029-acae-8cdd3a4c3a87",
   "metadata": {},
   "outputs": [],
   "source": [
    "proposals_data_df = pd.DataFrame(proposals_data['proposals'])"
   ]
  },
  {
   "cell_type": "code",
   "execution_count": null,
   "id": "876c8f24-c2e6-4fb7-8d20-4eb49f421c90",
   "metadata": {},
   "outputs": [],
   "source": [
    "proposals_data_df.to_csv(\"snapshot-scraped-data/arb-snapshot-proposals-20240303.csv\")"
   ]
  },
  {
   "cell_type": "code",
   "execution_count": 11,
   "id": "ebf987bb-dace-401d-918a-28ee465c2afe",
   "metadata": {},
   "outputs": [
    {
     "ename": "NameError",
     "evalue": "name 'proposals_data' is not defined",
     "output_type": "error",
     "traceback": [
      "\u001b[0;31m---------------------------------------------------------------------------\u001b[0m",
      "\u001b[0;31mNameError\u001b[0m                                 Traceback (most recent call last)",
      "Cell \u001b[0;32mIn[11], line 2\u001b[0m\n\u001b[1;32m      1\u001b[0m counter \u001b[38;5;241m=\u001b[39m \u001b[38;5;241m0\u001b[39m \n\u001b[0;32m----> 2\u001b[0m total \u001b[38;5;241m=\u001b[39m \u001b[38;5;28mlen\u001b[39m(\u001b[43mproposals_data\u001b[49m[\u001b[38;5;124m'\u001b[39m\u001b[38;5;124mproposals\u001b[39m\u001b[38;5;124m'\u001b[39m])\n\u001b[1;32m      4\u001b[0m \u001b[38;5;66;03m## create proposals\u001b[39;00m\n\u001b[1;32m      5\u001b[0m \u001b[38;5;28;01mfor\u001b[39;00m i \u001b[38;5;129;01min\u001b[39;00m proposals_data[\u001b[38;5;124m'\u001b[39m\u001b[38;5;124mproposals\u001b[39m\u001b[38;5;124m'\u001b[39m]:\n",
      "\u001b[0;31mNameError\u001b[0m: name 'proposals_data' is not defined"
     ]
    }
   ],
   "source": [
    "counter = 0 \n",
    "total = len(proposals_data['proposals'])\n",
    "\n",
    "## create proposals\n",
    "for i in proposals_data['proposals']:\n",
    "    counter += 1\n",
    "    print(f\"Ingesting proposal {str(counter)} out of {str(total)}...\")\n",
    "    \n",
    "    name = clean_text(i['title'])\n",
    "    text = clean_text(i['body'])\n",
    "    authorAddress = i['author'].lower()\n",
    "    props_params = {\n",
    "        'id': i['id'],\n",
    "        'name': i['title'], \n",
    "        'startDt': i['start'],\n",
    "        'endDt': i['end'],\n",
    "        'choices': i['choices'], \n",
    "        'name': name, \n",
    "        'text': text,\n",
    "        'authorAddress': authorAddress\n",
    "    }\n",
    "    props_query = \"\"\"\n",
    "    merge (prop:Snapshot:Proposal {id: $id})\n",
    "    set prop.name = $name\n",
    "    set prop.text = $text\n",
    "    set prop.startDt = $startDt\n",
    "    set prop.endDt = $endDt\n",
    "    set prop.choices = $choices\n",
    "    \"\"\"\n",
    "    execute_query(props_query, props_params)"
   ]
  },
  {
   "cell_type": "code",
   "execution_count": null,
   "id": "724f6076-1525-47ab-8551-55cda592f046",
   "metadata": {},
   "outputs": [],
   "source": [
    "### connect\n",
    "\n",
    "execute_query(\"\"\"match (prop:Proposal) match (space:Space)\n",
    "with prop, space\n",
    "merge (space)-[r:PROPOSAL]->(proposal)\"\"\")\n",
    "\n"
   ]
  },
  {
   "cell_type": "code",
   "execution_count": null,
   "id": "85764a64-b638-4c9e-836f-45e9dc502fe6",
   "metadata": {},
   "outputs": [],
   "source": [
    "## create and link authors\n",
    "counter = 0 \n",
    "total = len(proposals_data['proposals'])\n",
    "\n",
    "## create proposals\n",
    "for i in proposals_data['proposals']:\n",
    "    counter += 1\n",
    "    print(f\"Ingesting record {str(counter)} out of {str(total)}...\")\n",
    "    \n",
    "    authorAddress = i['author'].lower()\n",
    "\n",
    "    walletParams = {\n",
    "        'authorAddress' : authorAddress,\n",
    "        'proposalId': i['id']\n",
    "    }\n",
    "\n",
    "    walletsQuery = \"\"\"\n",
    "    merge (wallet:Wallet {address: $authorAddress}) \n",
    "    with wallet \n",
    "    match (proposal:Proposal:Snapshot {id: $proposalId}) \n",
    "    with wallet, proposal \n",
    "    merge (wallet)-[r:AUTHOR]->(proposal)\n",
    "    \"\"\"\n",
    "    execute_query(walletsQuery, walletParams)"
   ]
  },
  {
   "cell_type": "code",
   "execution_count": null,
   "id": "b1e2e678-d813-4961-8807-ac2e2b3ad91b",
   "metadata": {},
   "outputs": [],
   "source": [
    "## cool voters"
   ]
  },
  {
   "cell_type": "code",
   "execution_count": 18,
   "id": "75992f3b-f8f0-4fdd-9c67-bdad7f625f79",
   "metadata": {},
   "outputs": [],
   "source": [
    "def get_votes_for_proposals(proposals_response):\n",
    "    votes_query_template = \"\"\"\n",
    "    {{\n",
    "        votes (\n",
    "            first: 1000,\n",
    "            where: {{\n",
    "                proposal_in: {proposal_ids}\n",
    "            }}\n",
    "        ) {{\n",
    "            id\n",
    "            voter\n",
    "            choice\n",
    "            proposal {{\n",
    "                id\n",
    "            }}\n",
    "        }}\n",
    "    }}\n",
    "    \"\"\"\n",
    "    # Assuming proposals_response is the full response from the proposals query\n",
    "    # and contains a list of proposals under ['data']['proposals']\n",
    "    proposal_ids = [proposal[\"id\"] for proposal in proposals_response['proposals']]\n",
    "    votes = []\n",
    "    for proposal_id in proposal_ids:\n",
    "        query = votes_query_template.format(proposal_ids=json.dumps([proposal_id]))\n",
    "        response = requests.post(\"https://hub.snapshot.org/graphql\", json={\"query\": query})\n",
    "        if response.status_code == 200:\n",
    "            data = response.json()[\"data\"][\"votes\"]\n",
    "            votes.extend(data)\n",
    "    return votes\n",
    "\n",
    "proposal_votes = get_votes_for_proposals(proposals_data)"
   ]
  },
  {
   "cell_type": "code",
   "execution_count": 19,
   "id": "b7ffc448-02af-42a4-958a-7a1da6dfa9ae",
   "metadata": {},
   "outputs": [],
   "source": [
    "proposal_votes_df = pd.DataFrame(proposal_votes)\n"
   ]
  },
  {
   "cell_type": "code",
   "execution_count": 20,
   "id": "4421ef34-da9f-482d-8d35-3c4066ffc6e8",
   "metadata": {},
   "outputs": [],
   "source": [
    "type(proposal_votes_df.iloc[0]['proposal'])\n",
    "proposal_votes_df['proposalId'] = proposal_votes_df['proposal'].apply(lambda x: x['id'])\n"
   ]
  },
  {
   "cell_type": "code",
   "execution_count": 33,
   "id": "b1c93873-e902-41c5-b3f8-1d30eda704b7",
   "metadata": {},
   "outputs": [
    {
     "data": {
      "text/plain": [
       "'0x24344ab10eb905a4d7fa5885c6f681290e765a08a5f558ff6cfc5fedab42afb6'"
      ]
     },
     "execution_count": 33,
     "metadata": {},
     "output_type": "execute_result"
    }
   ],
   "source": [
    "proposal_votes_df_upload = proposal_votes_df[['voter', 'choice', 'proposalId']]\n",
    "proposal_votes_df_upload.iloc[51].proposalId"
   ]
  },
  {
   "cell_type": "code",
   "execution_count": 25,
   "id": "a101ce35-b39f-42e8-b73c-7fb314b48bec",
   "metadata": {},
   "outputs": [],
   "source": [
    "proposal_votes_df_upload.to_csv(\"snapshot-scraped-data/arb-snapshot-votes.csv\")"
   ]
  },
  {
   "cell_type": "code",
   "execution_count": 22,
   "id": "745292f8-1935-41be-acd7-a7f13ccd3123",
   "metadata": {},
   "outputs": [
    {
     "ename": "NameError",
     "evalue": "name 'proposal_votes_df' is not defined",
     "output_type": "error",
     "traceback": [
      "\u001b[0;31m---------------------------------------------------------------------------\u001b[0m",
      "\u001b[0;31mNameError\u001b[0m                                 Traceback (most recent call last)",
      "Cell \u001b[0;32mIn[22], line 1\u001b[0m\n\u001b[0;32m----> 1\u001b[0m \u001b[43mproposal_votes_df\u001b[49m\u001b[38;5;241m.\u001b[39mhead(\u001b[38;5;241m3\u001b[39m)\n",
      "\u001b[0;31mNameError\u001b[0m: name 'proposal_votes_df' is not defined"
     ]
    }
   ],
   "source": [
    "proposal_votes_df.head(3)"
   ]
  },
  {
   "cell_type": "code",
   "execution_count": null,
   "id": "a1b6f8be-19d3-46e0-89c3-f77e1c762bae",
   "metadata": {},
   "outputs": [],
   "source": [
    "len(proposal_votes)"
   ]
  },
  {
   "cell_type": "code",
   "execution_count": null,
   "id": "e275addb-bb5c-4545-8245-0197956d7d73",
   "metadata": {},
   "outputs": [],
   "source": [
    "proposal_votes[0]"
   ]
  },
  {
   "cell_type": "code",
   "execution_count": 28,
   "id": "d12f5547-61e6-4fdb-9675-0e1af47792f7",
   "metadata": {},
   "outputs": [
    {
     "ename": "DatabaseError",
     "evalue": "{code: Neo.DatabaseError.Statement.ExecutionFailed} {message: At https://github.com/jchanolm/arbitrum-data/blob/main/notebooks/arb-governance-data/snapshot/snapshot-scraped-data/arb-snapshot-votes.csv @ position 51 -  there's a field starting with a quote and whereas it ends that quote there seems to be characters in that field after that ending quote. That isn't supported. This is what I read: 'fileTree\":'}",
     "output_type": "error",
     "traceback": [
      "\u001b[0;31m---------------------------------------------------------------------------\u001b[0m",
      "\u001b[0;31mDatabaseError\u001b[0m                             Traceback (most recent call last)",
      "Cell \u001b[0;32mIn[28], line 12\u001b[0m\n\u001b[1;32m      1\u001b[0m \u001b[38;5;66;03m## create wallets\u001b[39;00m\n\u001b[1;32m      2\u001b[0m createWallets \u001b[38;5;241m=\u001b[39m \u001b[38;5;124m\"\"\"\u001b[39m\n\u001b[1;32m      3\u001b[0m \u001b[38;5;124mCALL \u001b[39m\u001b[38;5;124m{\u001b[39m\n\u001b[1;32m      4\u001b[0m \u001b[38;5;124m  LOAD CSV WITH HEADERS FROM \u001b[39m\n\u001b[0;32m   (...)\u001b[0m\n\u001b[1;32m      9\u001b[0m \u001b[38;5;124mIN TRANSACTIONS OF 500 ROWS;\u001b[39m\n\u001b[1;32m     10\u001b[0m \u001b[38;5;124m\"\"\"\u001b[39m\n\u001b[0;32m---> 12\u001b[0m \u001b[43mexecute_query\u001b[49m\u001b[43m(\u001b[49m\u001b[43mcreateWallets\u001b[49m\u001b[43m)\u001b[49m\n",
      "Cell \u001b[0;32mIn[27], line 21\u001b[0m, in \u001b[0;36mexecute_query\u001b[0;34m(query, params, neo4j)\u001b[0m\n\u001b[1;32m     19\u001b[0m \u001b[38;5;28;01mdef\u001b[39;00m \u001b[38;5;21mexecute_query\u001b[39m(query, params\u001b[38;5;241m=\u001b[39m\u001b[38;5;28;01mNone\u001b[39;00m, neo4j\u001b[38;5;241m=\u001b[39mneo4j_client):\n\u001b[1;32m     20\u001b[0m     \u001b[38;5;28;01mwith\u001b[39;00m neo4j_client\u001b[38;5;241m.\u001b[39msession() \u001b[38;5;28;01mas\u001b[39;00m session:\n\u001b[0;32m---> 21\u001b[0m         result \u001b[38;5;241m=\u001b[39m \u001b[43msession\u001b[49m\u001b[38;5;241;43m.\u001b[39;49m\u001b[43mrun\u001b[49m\u001b[43m(\u001b[49m\u001b[43mquery\u001b[49m\u001b[43m,\u001b[49m\u001b[43m \u001b[49m\u001b[43mparameters\u001b[49m\u001b[38;5;241;43m=\u001b[39;49m\u001b[43mparams\u001b[49m\u001b[43m)\u001b[49m\n\u001b[1;32m     22\u001b[0m         \u001b[38;5;66;03m# Convert the result to a DataFrame\u001b[39;00m\n\u001b[1;32m     23\u001b[0m         records \u001b[38;5;241m=\u001b[39m [record\u001b[38;5;241m.\u001b[39mdata() \u001b[38;5;28;01mfor\u001b[39;00m record \u001b[38;5;129;01min\u001b[39;00m result]\n",
      "File \u001b[0;32m~/dev/crypto-projects/arbitrum-data/env/lib/python3.10/site-packages/neo4j/_sync/work/session.py:313\u001b[0m, in \u001b[0;36mSession.run\u001b[0;34m(self, query, parameters, **kwargs)\u001b[0m\n\u001b[1;32m    311\u001b[0m bookmarks \u001b[38;5;241m=\u001b[39m \u001b[38;5;28mself\u001b[39m\u001b[38;5;241m.\u001b[39m_get_bookmarks()\n\u001b[1;32m    312\u001b[0m parameters \u001b[38;5;241m=\u001b[39m \u001b[38;5;28mdict\u001b[39m(parameters \u001b[38;5;129;01mor\u001b[39;00m {}, \u001b[38;5;241m*\u001b[39m\u001b[38;5;241m*\u001b[39mkwargs)\n\u001b[0;32m--> 313\u001b[0m \u001b[38;5;28;43mself\u001b[39;49m\u001b[38;5;241;43m.\u001b[39;49m\u001b[43m_auto_result\u001b[49m\u001b[38;5;241;43m.\u001b[39;49m\u001b[43m_run\u001b[49m\u001b[43m(\u001b[49m\n\u001b[1;32m    314\u001b[0m \u001b[43m    \u001b[49m\u001b[43mquery\u001b[49m\u001b[43m,\u001b[49m\u001b[43m \u001b[49m\u001b[43mparameters\u001b[49m\u001b[43m,\u001b[49m\u001b[43m \u001b[49m\u001b[38;5;28;43mself\u001b[39;49m\u001b[38;5;241;43m.\u001b[39;49m\u001b[43m_config\u001b[49m\u001b[38;5;241;43m.\u001b[39;49m\u001b[43mdatabase\u001b[49m\u001b[43m,\u001b[49m\n\u001b[1;32m    315\u001b[0m \u001b[43m    \u001b[49m\u001b[38;5;28;43mself\u001b[39;49m\u001b[38;5;241;43m.\u001b[39;49m\u001b[43m_config\u001b[49m\u001b[38;5;241;43m.\u001b[39;49m\u001b[43mimpersonated_user\u001b[49m\u001b[43m,\u001b[49m\u001b[43m \u001b[49m\u001b[38;5;28;43mself\u001b[39;49m\u001b[38;5;241;43m.\u001b[39;49m\u001b[43m_config\u001b[49m\u001b[38;5;241;43m.\u001b[39;49m\u001b[43mdefault_access_mode\u001b[49m\u001b[43m,\u001b[49m\n\u001b[1;32m    316\u001b[0m \u001b[43m    \u001b[49m\u001b[43mbookmarks\u001b[49m\u001b[43m,\u001b[49m\u001b[43m \u001b[49m\u001b[38;5;28;43mself\u001b[39;49m\u001b[38;5;241;43m.\u001b[39;49m\u001b[43m_config\u001b[49m\u001b[38;5;241;43m.\u001b[39;49m\u001b[43mnotifications_min_severity\u001b[49m\u001b[43m,\u001b[49m\n\u001b[1;32m    317\u001b[0m \u001b[43m    \u001b[49m\u001b[38;5;28;43mself\u001b[39;49m\u001b[38;5;241;43m.\u001b[39;49m\u001b[43m_config\u001b[49m\u001b[38;5;241;43m.\u001b[39;49m\u001b[43mnotifications_disabled_categories\u001b[49m\u001b[43m,\u001b[49m\n\u001b[1;32m    318\u001b[0m \u001b[43m\u001b[49m\u001b[43m)\u001b[49m\n\u001b[1;32m    320\u001b[0m \u001b[38;5;28;01mreturn\u001b[39;00m \u001b[38;5;28mself\u001b[39m\u001b[38;5;241m.\u001b[39m_auto_result\n",
      "File \u001b[0;32m~/dev/crypto-projects/arbitrum-data/env/lib/python3.10/site-packages/neo4j/_sync/work/result.py:181\u001b[0m, in \u001b[0;36mResult._run\u001b[0;34m(self, query, parameters, db, imp_user, access_mode, bookmarks, notifications_min_severity, notifications_disabled_categories)\u001b[0m\n\u001b[1;32m    179\u001b[0m \u001b[38;5;28mself\u001b[39m\u001b[38;5;241m.\u001b[39m_pull()\n\u001b[1;32m    180\u001b[0m \u001b[38;5;28mself\u001b[39m\u001b[38;5;241m.\u001b[39m_connection\u001b[38;5;241m.\u001b[39msend_all()\n\u001b[0;32m--> 181\u001b[0m \u001b[38;5;28;43mself\u001b[39;49m\u001b[38;5;241;43m.\u001b[39;49m\u001b[43m_attach\u001b[49m\u001b[43m(\u001b[49m\u001b[43m)\u001b[49m\n",
      "File \u001b[0;32m~/dev/crypto-projects/arbitrum-data/env/lib/python3.10/site-packages/neo4j/_sync/work/result.py:301\u001b[0m, in \u001b[0;36mResult._attach\u001b[0;34m(self)\u001b[0m\n\u001b[1;32m    299\u001b[0m \u001b[38;5;28;01mif\u001b[39;00m \u001b[38;5;28mself\u001b[39m\u001b[38;5;241m.\u001b[39m_exhausted \u001b[38;5;129;01mis\u001b[39;00m \u001b[38;5;28;01mFalse\u001b[39;00m:\n\u001b[1;32m    300\u001b[0m     \u001b[38;5;28;01mwhile\u001b[39;00m \u001b[38;5;28mself\u001b[39m\u001b[38;5;241m.\u001b[39m_attached \u001b[38;5;129;01mis\u001b[39;00m \u001b[38;5;28;01mFalse\u001b[39;00m:\n\u001b[0;32m--> 301\u001b[0m         \u001b[38;5;28;43mself\u001b[39;49m\u001b[38;5;241;43m.\u001b[39;49m\u001b[43m_connection\u001b[49m\u001b[38;5;241;43m.\u001b[39;49m\u001b[43mfetch_message\u001b[49m\u001b[43m(\u001b[49m\u001b[43m)\u001b[49m\n",
      "File \u001b[0;32m~/dev/crypto-projects/arbitrum-data/env/lib/python3.10/site-packages/neo4j/_sync/io/_common.py:178\u001b[0m, in \u001b[0;36mConnectionErrorHandler.__getattr__.<locals>.outer.<locals>.inner\u001b[0;34m(*args, **kwargs)\u001b[0m\n\u001b[1;32m    176\u001b[0m \u001b[38;5;28;01mdef\u001b[39;00m \u001b[38;5;21minner\u001b[39m(\u001b[38;5;241m*\u001b[39margs, \u001b[38;5;241m*\u001b[39m\u001b[38;5;241m*\u001b[39mkwargs):\n\u001b[1;32m    177\u001b[0m     \u001b[38;5;28;01mtry\u001b[39;00m:\n\u001b[0;32m--> 178\u001b[0m         \u001b[43mfunc\u001b[49m\u001b[43m(\u001b[49m\u001b[38;5;241;43m*\u001b[39;49m\u001b[43margs\u001b[49m\u001b[43m,\u001b[49m\u001b[43m \u001b[49m\u001b[38;5;241;43m*\u001b[39;49m\u001b[38;5;241;43m*\u001b[39;49m\u001b[43mkwargs\u001b[49m\u001b[43m)\u001b[49m\n\u001b[1;32m    179\u001b[0m     \u001b[38;5;28;01mexcept\u001b[39;00m (Neo4jError, ServiceUnavailable, SessionExpired) \u001b[38;5;28;01mas\u001b[39;00m exc:\n\u001b[1;32m    180\u001b[0m         \u001b[38;5;28;01massert\u001b[39;00m \u001b[38;5;129;01mnot\u001b[39;00m asyncio\u001b[38;5;241m.\u001b[39miscoroutinefunction(\u001b[38;5;28mself\u001b[39m\u001b[38;5;241m.\u001b[39m__on_error)\n",
      "File \u001b[0;32m~/dev/crypto-projects/arbitrum-data/env/lib/python3.10/site-packages/neo4j/_sync/io/_bolt.py:849\u001b[0m, in \u001b[0;36mBolt.fetch_message\u001b[0;34m(self)\u001b[0m\n\u001b[1;32m    845\u001b[0m \u001b[38;5;66;03m# Receive exactly one message\u001b[39;00m\n\u001b[1;32m    846\u001b[0m tag, fields \u001b[38;5;241m=\u001b[39m \u001b[38;5;28mself\u001b[39m\u001b[38;5;241m.\u001b[39minbox\u001b[38;5;241m.\u001b[39mpop(\n\u001b[1;32m    847\u001b[0m     hydration_hooks\u001b[38;5;241m=\u001b[39m\u001b[38;5;28mself\u001b[39m\u001b[38;5;241m.\u001b[39mresponses[\u001b[38;5;241m0\u001b[39m]\u001b[38;5;241m.\u001b[39mhydration_hooks\n\u001b[1;32m    848\u001b[0m )\n\u001b[0;32m--> 849\u001b[0m res \u001b[38;5;241m=\u001b[39m \u001b[38;5;28;43mself\u001b[39;49m\u001b[38;5;241;43m.\u001b[39;49m\u001b[43m_process_message\u001b[49m\u001b[43m(\u001b[49m\u001b[43mtag\u001b[49m\u001b[43m,\u001b[49m\u001b[43m \u001b[49m\u001b[43mfields\u001b[49m\u001b[43m)\u001b[49m\n\u001b[1;32m    850\u001b[0m \u001b[38;5;28mself\u001b[39m\u001b[38;5;241m.\u001b[39midle_since \u001b[38;5;241m=\u001b[39m monotonic()\n\u001b[1;32m    851\u001b[0m \u001b[38;5;28;01mreturn\u001b[39;00m res\n",
      "File \u001b[0;32m~/dev/crypto-projects/arbitrum-data/env/lib/python3.10/site-packages/neo4j/_sync/io/_bolt5.py:369\u001b[0m, in \u001b[0;36mBolt5x0._process_message\u001b[0;34m(self, tag, fields)\u001b[0m\n\u001b[1;32m    367\u001b[0m \u001b[38;5;28mself\u001b[39m\u001b[38;5;241m.\u001b[39m_server_state_manager\u001b[38;5;241m.\u001b[39mstate \u001b[38;5;241m=\u001b[39m \u001b[38;5;28mself\u001b[39m\u001b[38;5;241m.\u001b[39mbolt_states\u001b[38;5;241m.\u001b[39mFAILED\n\u001b[1;32m    368\u001b[0m \u001b[38;5;28;01mtry\u001b[39;00m:\n\u001b[0;32m--> 369\u001b[0m     \u001b[43mresponse\u001b[49m\u001b[38;5;241;43m.\u001b[39;49m\u001b[43mon_failure\u001b[49m\u001b[43m(\u001b[49m\u001b[43msummary_metadata\u001b[49m\u001b[43m \u001b[49m\u001b[38;5;129;43;01mor\u001b[39;49;00m\u001b[43m \u001b[49m\u001b[43m{\u001b[49m\u001b[43m}\u001b[49m\u001b[43m)\u001b[49m\n\u001b[1;32m    370\u001b[0m \u001b[38;5;28;01mexcept\u001b[39;00m (ServiceUnavailable, DatabaseUnavailable):\n\u001b[1;32m    371\u001b[0m     \u001b[38;5;28;01mif\u001b[39;00m \u001b[38;5;28mself\u001b[39m\u001b[38;5;241m.\u001b[39mpool:\n",
      "File \u001b[0;32m~/dev/crypto-projects/arbitrum-data/env/lib/python3.10/site-packages/neo4j/_sync/io/_common.py:245\u001b[0m, in \u001b[0;36mResponse.on_failure\u001b[0;34m(self, metadata)\u001b[0m\n\u001b[1;32m    243\u001b[0m handler \u001b[38;5;241m=\u001b[39m \u001b[38;5;28mself\u001b[39m\u001b[38;5;241m.\u001b[39mhandlers\u001b[38;5;241m.\u001b[39mget(\u001b[38;5;124m\"\u001b[39m\u001b[38;5;124mon_summary\u001b[39m\u001b[38;5;124m\"\u001b[39m)\n\u001b[1;32m    244\u001b[0m Util\u001b[38;5;241m.\u001b[39mcallback(handler)\n\u001b[0;32m--> 245\u001b[0m \u001b[38;5;28;01mraise\u001b[39;00m Neo4jError\u001b[38;5;241m.\u001b[39mhydrate(\u001b[38;5;241m*\u001b[39m\u001b[38;5;241m*\u001b[39mmetadata)\n",
      "\u001b[0;31mDatabaseError\u001b[0m: {code: Neo.DatabaseError.Statement.ExecutionFailed} {message: At https://github.com/jchanolm/arbitrum-data/blob/main/notebooks/arb-governance-data/snapshot/snapshot-scraped-data/arb-snapshot-votes.csv @ position 51 -  there's a field starting with a quote and whereas it ends that quote there seems to be characters in that field after that ending quote. That isn't supported. This is what I read: 'fileTree\":'}"
     ]
    }
   ],
   "source": [
    "## create wallets\n",
    "createWallets = \"\"\"\n",
    "CALL {\n",
    "  LOAD CSV WITH HEADERS FROM \n",
    "  'https://github.com/jchanolm/arbitrum-data/blob/main/notebooks/arb-governance-data/snapshot/snapshot-scraped-data/arb-snapshot-votes.csv' AS row\n",
    "  MERGE (wallet:Wallet {address: row.voter})-[r:VOTED]->(prop)\n",
    "  SET r.choice = row.choice\n",
    "}\n",
    "IN TRANSACTIONS OF 500 ROWS;\n",
    "\"\"\"\n",
    "\n",
    "execute_query(createWallets)"
   ]
  },
  {
   "cell_type": "code",
   "execution_count": 9,
   "id": "a6638f79-966d-4395-a961-4eb9fd0e9eb7",
   "metadata": {},
   "outputs": [
    {
     "ename": "DatabaseError",
     "evalue": "{code: Neo.DatabaseError.Statement.ExecutionFailed} {message: At https://github.com/jchanolm/arbitrum-data/blob/main/notebooks/arb-governance-data/snapshot/snapshot-scraped-data/arb-snapshot-votes.csv @ position 51 -  there's a field starting with a quote and whereas it ends that quote there seems to be characters in that field after that ending quote. That isn't supported. This is what I read: 'fileTree\":'}",
     "output_type": "error",
     "traceback": [
      "\u001b[0;31m---------------------------------------------------------------------------\u001b[0m",
      "\u001b[0;31mDatabaseError\u001b[0m                             Traceback (most recent call last)",
      "Cell \u001b[0;32mIn[9], line 15\u001b[0m\n\u001b[1;32m      1\u001b[0m \u001b[38;5;66;03m## connect wallets to proposals\u001b[39;00m\n\u001b[1;32m      2\u001b[0m connectWallets \u001b[38;5;241m=\u001b[39m \u001b[38;5;124m\"\"\"\u001b[39m\n\u001b[1;32m      3\u001b[0m \u001b[38;5;124mCALL \u001b[39m\u001b[38;5;124m{\u001b[39m\n\u001b[1;32m      4\u001b[0m \u001b[38;5;124m  LOAD CSV WITH HEADERS FROM \u001b[39m\n\u001b[0;32m   (...)\u001b[0m\n\u001b[1;32m     12\u001b[0m \u001b[38;5;124mIN TRANSACTIONS OF 500 ROWS;\u001b[39m\n\u001b[1;32m     13\u001b[0m \u001b[38;5;124m\"\"\"\u001b[39m\n\u001b[0;32m---> 15\u001b[0m \u001b[43mexecute_query\u001b[49m\u001b[43m(\u001b[49m\u001b[43mconnectWallets\u001b[49m\u001b[43m)\u001b[49m\n",
      "Cell \u001b[0;32mIn[2], line 21\u001b[0m, in \u001b[0;36mexecute_query\u001b[0;34m(query, params, neo4j)\u001b[0m\n\u001b[1;32m     19\u001b[0m \u001b[38;5;28;01mdef\u001b[39;00m \u001b[38;5;21mexecute_query\u001b[39m(query, params\u001b[38;5;241m=\u001b[39m\u001b[38;5;28;01mNone\u001b[39;00m, neo4j\u001b[38;5;241m=\u001b[39mneo4j_client):\n\u001b[1;32m     20\u001b[0m     \u001b[38;5;28;01mwith\u001b[39;00m neo4j_client\u001b[38;5;241m.\u001b[39msession() \u001b[38;5;28;01mas\u001b[39;00m session:\n\u001b[0;32m---> 21\u001b[0m         result \u001b[38;5;241m=\u001b[39m \u001b[43msession\u001b[49m\u001b[38;5;241;43m.\u001b[39;49m\u001b[43mrun\u001b[49m\u001b[43m(\u001b[49m\u001b[43mquery\u001b[49m\u001b[43m,\u001b[49m\u001b[43m \u001b[49m\u001b[43mparameters\u001b[49m\u001b[38;5;241;43m=\u001b[39;49m\u001b[43mparams\u001b[49m\u001b[43m)\u001b[49m\n\u001b[1;32m     22\u001b[0m         \u001b[38;5;66;03m# Convert the result to a DataFrame\u001b[39;00m\n\u001b[1;32m     23\u001b[0m         records \u001b[38;5;241m=\u001b[39m [record\u001b[38;5;241m.\u001b[39mdata() \u001b[38;5;28;01mfor\u001b[39;00m record \u001b[38;5;129;01min\u001b[39;00m result]\n",
      "File \u001b[0;32m~/dev/crypto-projects/arbitrum-data/env/lib/python3.10/site-packages/neo4j/_sync/work/session.py:313\u001b[0m, in \u001b[0;36mSession.run\u001b[0;34m(self, query, parameters, **kwargs)\u001b[0m\n\u001b[1;32m    311\u001b[0m bookmarks \u001b[38;5;241m=\u001b[39m \u001b[38;5;28mself\u001b[39m\u001b[38;5;241m.\u001b[39m_get_bookmarks()\n\u001b[1;32m    312\u001b[0m parameters \u001b[38;5;241m=\u001b[39m \u001b[38;5;28mdict\u001b[39m(parameters \u001b[38;5;129;01mor\u001b[39;00m {}, \u001b[38;5;241m*\u001b[39m\u001b[38;5;241m*\u001b[39mkwargs)\n\u001b[0;32m--> 313\u001b[0m \u001b[38;5;28;43mself\u001b[39;49m\u001b[38;5;241;43m.\u001b[39;49m\u001b[43m_auto_result\u001b[49m\u001b[38;5;241;43m.\u001b[39;49m\u001b[43m_run\u001b[49m\u001b[43m(\u001b[49m\n\u001b[1;32m    314\u001b[0m \u001b[43m    \u001b[49m\u001b[43mquery\u001b[49m\u001b[43m,\u001b[49m\u001b[43m \u001b[49m\u001b[43mparameters\u001b[49m\u001b[43m,\u001b[49m\u001b[43m \u001b[49m\u001b[38;5;28;43mself\u001b[39;49m\u001b[38;5;241;43m.\u001b[39;49m\u001b[43m_config\u001b[49m\u001b[38;5;241;43m.\u001b[39;49m\u001b[43mdatabase\u001b[49m\u001b[43m,\u001b[49m\n\u001b[1;32m    315\u001b[0m \u001b[43m    \u001b[49m\u001b[38;5;28;43mself\u001b[39;49m\u001b[38;5;241;43m.\u001b[39;49m\u001b[43m_config\u001b[49m\u001b[38;5;241;43m.\u001b[39;49m\u001b[43mimpersonated_user\u001b[49m\u001b[43m,\u001b[49m\u001b[43m \u001b[49m\u001b[38;5;28;43mself\u001b[39;49m\u001b[38;5;241;43m.\u001b[39;49m\u001b[43m_config\u001b[49m\u001b[38;5;241;43m.\u001b[39;49m\u001b[43mdefault_access_mode\u001b[49m\u001b[43m,\u001b[49m\n\u001b[1;32m    316\u001b[0m \u001b[43m    \u001b[49m\u001b[43mbookmarks\u001b[49m\u001b[43m,\u001b[49m\u001b[43m \u001b[49m\u001b[38;5;28;43mself\u001b[39;49m\u001b[38;5;241;43m.\u001b[39;49m\u001b[43m_config\u001b[49m\u001b[38;5;241;43m.\u001b[39;49m\u001b[43mnotifications_min_severity\u001b[49m\u001b[43m,\u001b[49m\n\u001b[1;32m    317\u001b[0m \u001b[43m    \u001b[49m\u001b[38;5;28;43mself\u001b[39;49m\u001b[38;5;241;43m.\u001b[39;49m\u001b[43m_config\u001b[49m\u001b[38;5;241;43m.\u001b[39;49m\u001b[43mnotifications_disabled_categories\u001b[49m\u001b[43m,\u001b[49m\n\u001b[1;32m    318\u001b[0m \u001b[43m\u001b[49m\u001b[43m)\u001b[49m\n\u001b[1;32m    320\u001b[0m \u001b[38;5;28;01mreturn\u001b[39;00m \u001b[38;5;28mself\u001b[39m\u001b[38;5;241m.\u001b[39m_auto_result\n",
      "File \u001b[0;32m~/dev/crypto-projects/arbitrum-data/env/lib/python3.10/site-packages/neo4j/_sync/work/result.py:181\u001b[0m, in \u001b[0;36mResult._run\u001b[0;34m(self, query, parameters, db, imp_user, access_mode, bookmarks, notifications_min_severity, notifications_disabled_categories)\u001b[0m\n\u001b[1;32m    179\u001b[0m \u001b[38;5;28mself\u001b[39m\u001b[38;5;241m.\u001b[39m_pull()\n\u001b[1;32m    180\u001b[0m \u001b[38;5;28mself\u001b[39m\u001b[38;5;241m.\u001b[39m_connection\u001b[38;5;241m.\u001b[39msend_all()\n\u001b[0;32m--> 181\u001b[0m \u001b[38;5;28;43mself\u001b[39;49m\u001b[38;5;241;43m.\u001b[39;49m\u001b[43m_attach\u001b[49m\u001b[43m(\u001b[49m\u001b[43m)\u001b[49m\n",
      "File \u001b[0;32m~/dev/crypto-projects/arbitrum-data/env/lib/python3.10/site-packages/neo4j/_sync/work/result.py:301\u001b[0m, in \u001b[0;36mResult._attach\u001b[0;34m(self)\u001b[0m\n\u001b[1;32m    299\u001b[0m \u001b[38;5;28;01mif\u001b[39;00m \u001b[38;5;28mself\u001b[39m\u001b[38;5;241m.\u001b[39m_exhausted \u001b[38;5;129;01mis\u001b[39;00m \u001b[38;5;28;01mFalse\u001b[39;00m:\n\u001b[1;32m    300\u001b[0m     \u001b[38;5;28;01mwhile\u001b[39;00m \u001b[38;5;28mself\u001b[39m\u001b[38;5;241m.\u001b[39m_attached \u001b[38;5;129;01mis\u001b[39;00m \u001b[38;5;28;01mFalse\u001b[39;00m:\n\u001b[0;32m--> 301\u001b[0m         \u001b[38;5;28;43mself\u001b[39;49m\u001b[38;5;241;43m.\u001b[39;49m\u001b[43m_connection\u001b[49m\u001b[38;5;241;43m.\u001b[39;49m\u001b[43mfetch_message\u001b[49m\u001b[43m(\u001b[49m\u001b[43m)\u001b[49m\n",
      "File \u001b[0;32m~/dev/crypto-projects/arbitrum-data/env/lib/python3.10/site-packages/neo4j/_sync/io/_common.py:178\u001b[0m, in \u001b[0;36mConnectionErrorHandler.__getattr__.<locals>.outer.<locals>.inner\u001b[0;34m(*args, **kwargs)\u001b[0m\n\u001b[1;32m    176\u001b[0m \u001b[38;5;28;01mdef\u001b[39;00m \u001b[38;5;21minner\u001b[39m(\u001b[38;5;241m*\u001b[39margs, \u001b[38;5;241m*\u001b[39m\u001b[38;5;241m*\u001b[39mkwargs):\n\u001b[1;32m    177\u001b[0m     \u001b[38;5;28;01mtry\u001b[39;00m:\n\u001b[0;32m--> 178\u001b[0m         \u001b[43mfunc\u001b[49m\u001b[43m(\u001b[49m\u001b[38;5;241;43m*\u001b[39;49m\u001b[43margs\u001b[49m\u001b[43m,\u001b[49m\u001b[43m \u001b[49m\u001b[38;5;241;43m*\u001b[39;49m\u001b[38;5;241;43m*\u001b[39;49m\u001b[43mkwargs\u001b[49m\u001b[43m)\u001b[49m\n\u001b[1;32m    179\u001b[0m     \u001b[38;5;28;01mexcept\u001b[39;00m (Neo4jError, ServiceUnavailable, SessionExpired) \u001b[38;5;28;01mas\u001b[39;00m exc:\n\u001b[1;32m    180\u001b[0m         \u001b[38;5;28;01massert\u001b[39;00m \u001b[38;5;129;01mnot\u001b[39;00m asyncio\u001b[38;5;241m.\u001b[39miscoroutinefunction(\u001b[38;5;28mself\u001b[39m\u001b[38;5;241m.\u001b[39m__on_error)\n",
      "File \u001b[0;32m~/dev/crypto-projects/arbitrum-data/env/lib/python3.10/site-packages/neo4j/_sync/io/_bolt.py:849\u001b[0m, in \u001b[0;36mBolt.fetch_message\u001b[0;34m(self)\u001b[0m\n\u001b[1;32m    845\u001b[0m \u001b[38;5;66;03m# Receive exactly one message\u001b[39;00m\n\u001b[1;32m    846\u001b[0m tag, fields \u001b[38;5;241m=\u001b[39m \u001b[38;5;28mself\u001b[39m\u001b[38;5;241m.\u001b[39minbox\u001b[38;5;241m.\u001b[39mpop(\n\u001b[1;32m    847\u001b[0m     hydration_hooks\u001b[38;5;241m=\u001b[39m\u001b[38;5;28mself\u001b[39m\u001b[38;5;241m.\u001b[39mresponses[\u001b[38;5;241m0\u001b[39m]\u001b[38;5;241m.\u001b[39mhydration_hooks\n\u001b[1;32m    848\u001b[0m )\n\u001b[0;32m--> 849\u001b[0m res \u001b[38;5;241m=\u001b[39m \u001b[38;5;28;43mself\u001b[39;49m\u001b[38;5;241;43m.\u001b[39;49m\u001b[43m_process_message\u001b[49m\u001b[43m(\u001b[49m\u001b[43mtag\u001b[49m\u001b[43m,\u001b[49m\u001b[43m \u001b[49m\u001b[43mfields\u001b[49m\u001b[43m)\u001b[49m\n\u001b[1;32m    850\u001b[0m \u001b[38;5;28mself\u001b[39m\u001b[38;5;241m.\u001b[39midle_since \u001b[38;5;241m=\u001b[39m monotonic()\n\u001b[1;32m    851\u001b[0m \u001b[38;5;28;01mreturn\u001b[39;00m res\n",
      "File \u001b[0;32m~/dev/crypto-projects/arbitrum-data/env/lib/python3.10/site-packages/neo4j/_sync/io/_bolt5.py:369\u001b[0m, in \u001b[0;36mBolt5x0._process_message\u001b[0;34m(self, tag, fields)\u001b[0m\n\u001b[1;32m    367\u001b[0m \u001b[38;5;28mself\u001b[39m\u001b[38;5;241m.\u001b[39m_server_state_manager\u001b[38;5;241m.\u001b[39mstate \u001b[38;5;241m=\u001b[39m \u001b[38;5;28mself\u001b[39m\u001b[38;5;241m.\u001b[39mbolt_states\u001b[38;5;241m.\u001b[39mFAILED\n\u001b[1;32m    368\u001b[0m \u001b[38;5;28;01mtry\u001b[39;00m:\n\u001b[0;32m--> 369\u001b[0m     \u001b[43mresponse\u001b[49m\u001b[38;5;241;43m.\u001b[39;49m\u001b[43mon_failure\u001b[49m\u001b[43m(\u001b[49m\u001b[43msummary_metadata\u001b[49m\u001b[43m \u001b[49m\u001b[38;5;129;43;01mor\u001b[39;49;00m\u001b[43m \u001b[49m\u001b[43m{\u001b[49m\u001b[43m}\u001b[49m\u001b[43m)\u001b[49m\n\u001b[1;32m    370\u001b[0m \u001b[38;5;28;01mexcept\u001b[39;00m (ServiceUnavailable, DatabaseUnavailable):\n\u001b[1;32m    371\u001b[0m     \u001b[38;5;28;01mif\u001b[39;00m \u001b[38;5;28mself\u001b[39m\u001b[38;5;241m.\u001b[39mpool:\n",
      "File \u001b[0;32m~/dev/crypto-projects/arbitrum-data/env/lib/python3.10/site-packages/neo4j/_sync/io/_common.py:245\u001b[0m, in \u001b[0;36mResponse.on_failure\u001b[0;34m(self, metadata)\u001b[0m\n\u001b[1;32m    243\u001b[0m handler \u001b[38;5;241m=\u001b[39m \u001b[38;5;28mself\u001b[39m\u001b[38;5;241m.\u001b[39mhandlers\u001b[38;5;241m.\u001b[39mget(\u001b[38;5;124m\"\u001b[39m\u001b[38;5;124mon_summary\u001b[39m\u001b[38;5;124m\"\u001b[39m)\n\u001b[1;32m    244\u001b[0m Util\u001b[38;5;241m.\u001b[39mcallback(handler)\n\u001b[0;32m--> 245\u001b[0m \u001b[38;5;28;01mraise\u001b[39;00m Neo4jError\u001b[38;5;241m.\u001b[39mhydrate(\u001b[38;5;241m*\u001b[39m\u001b[38;5;241m*\u001b[39mmetadata)\n",
      "\u001b[0;31mDatabaseError\u001b[0m: {code: Neo.DatabaseError.Statement.ExecutionFailed} {message: At https://github.com/jchanolm/arbitrum-data/blob/main/notebooks/arb-governance-data/snapshot/snapshot-scraped-data/arb-snapshot-votes.csv @ position 51 -  there's a field starting with a quote and whereas it ends that quote there seems to be characters in that field after that ending quote. That isn't supported. This is what I read: 'fileTree\":'}"
     ]
    }
   ],
   "source": [
    "## connect wallets to proposals\n",
    "connectWallets = \"\"\"\n",
    "CALL {\n",
    "  LOAD CSV WITH HEADERS FROM \n",
    "  'https://github.com/jchanolm/arbitrum-data/blob/main/notebooks/arb-governance-data/snapshot/snapshot-scraped-data/arb-snapshot-votes.csv' AS row\n",
    "  match (wallet:Wallet {address: row.voter})\n",
    "  match (prop:Proposal {id: row.id})\n",
    "  with wallet, prop, row \n",
    "  merge (wallet)-[r:VOTED]->(prop) \n",
    "  set r.choice = row.choice\n",
    "}\n",
    "IN TRANSACTIONS OF 500 ROWS;\n",
    "\"\"\"\n",
    "\n",
    "execute_query(connectWallets)"
   ]
  },
  {
   "cell_type": "code",
   "execution_count": null,
   "id": "adaf69de-4565-4a6f-8555-4934cc6e997c",
   "metadata": {},
   "outputs": [],
   "source": [
    "## connect snapshot urls from grant subs\n",
    "\n",
    "match (prop:Snapshot:Proposal)\n",
    "match (grantee:Grantee)-[r:GRANTEE]-(grant:GrantInitiative)\n",
    "where r.grantApprovalAction contains prop.id \n",
    "with prop, grantee, grant\n",
    "merge (grant)-[r:PROPROSAL]->(prop)\n",
    "merge (prop)-[r1:APPROVED_FUNDING]->(grantee)"
   ]
  },
  {
   "cell_type": "code",
   "execution_count": null,
   "id": "52048ffc-5df8-48bd-adab-41ba495c0084",
   "metadata": {},
   "outputs": [],
   "source": [
    "proposal_votes_df = pd.DataFrame(proposal_votes)"
   ]
  },
  {
   "cell_type": "code",
   "execution_count": null,
   "id": "a5ebe270-a4b1-4d50-ab3f-b8770cb0f6fc",
   "metadata": {},
   "outputs": [],
   "source": [
    "proposal_votes_df.to_csv('snapshot-scraped-data/arb-snapshot-votes.csv')"
   ]
  }
 ],
 "metadata": {
  "kernelspec": {
   "display_name": "Python 3 (ipykernel)",
   "language": "python",
   "name": "python3"
  },
  "language_info": {
   "codemirror_mode": {
    "name": "ipython",
    "version": 3
   },
   "file_extension": ".py",
   "mimetype": "text/x-python",
   "name": "python",
   "nbconvert_exporter": "python",
   "pygments_lexer": "ipython3",
   "version": "3.10.0"
  }
 },
 "nbformat": 4,
 "nbformat_minor": 5
}
