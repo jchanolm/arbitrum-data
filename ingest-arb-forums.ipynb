{
 "cells": [
  {
   "cell_type": "code",
   "execution_count": 26,
   "id": "24f65dee-a347-40ae-bff8-da16248d69c9",
   "metadata": {},
   "outputs": [
    {
     "data": {
      "text/plain": [
       "True"
      ]
     },
     "execution_count": 26,
     "metadata": {},
     "output_type": "execute_result"
    }
   ],
   "source": [
    "import os \n",
    "import pandas as pd\n",
    "import time\n",
    "import requests \n",
    "import json\n",
    "import neo4j\n",
    "from neo4j import GraphDatabase\n",
    "\n",
    "from dotenv import load_dotenv\n",
    "\n",
    "load_dotenv()"
   ]
  },
  {
   "cell_type": "code",
   "execution_count": 8,
   "id": "2ebb8995-aedf-40cb-8153-4bbde524de60",
   "metadata": {},
   "outputs": [],
   "source": [
    "import requests\n",
    "import time\n",
    "\n",
    "def fetch_categories(base_url):\n",
    "    url = f\"{base_url}/categories.json\"\n",
    "    response = requests.get(url)\n",
    "    if response.status_code == 200:\n",
    "        try:\n",
    "            data = response.json()\n",
    "            return data.get('category_list', {}).get('categories', [])\n",
    "        except ValueError:\n",
    "            print(\"Failed to decode JSON.\")\n",
    "            return []\n",
    "    else:\n",
    "        print(f\"Failed to fetch categories: {response.status_code}\")\n",
    "        return []\n",
    "\n",
    "def fetch_topics(base_url, category_slug):\n",
    "    topics = []\n",
    "    page = 0\n",
    "    while True:\n",
    "        url = f\"{base_url}/c/{category_slug}.json?page={page}\"\n",
    "        response = requests.get(url)\n",
    "        if response.status_code != 200:\n",
    "            break\n",
    "        data = response.json()\n",
    "        fetched_topics = data.get(\"topic_list\", {}).get(\"topics\", [])\n",
    "        if not fetched_topics:\n",
    "            break\n",
    "        topics.extend(fetched_topics)\n",
    "        page += 1\n",
    "    return topics\n",
    "\n",
    "def fetch_topic_details(base_url, topic_id):\n",
    "    url = f\"{base_url}/t/{topic_id}.json\"\n",
    "    response = requests.get(url)\n",
    "    time.sleep(.5)  \n",
    "    if response.status_code != 200:\n",
    "        return None\n",
    "    return response.json()\n",
    "\n",
    "\n",
    "def organize_post_data(base_url, topic_details, category_name):\n",
    "    posts_data = []\n",
    "    posts = topic_details.get(\"post_stream\", {}).get(\"posts\", [])\n",
    "    for post in posts:\n",
    "        post_data = {\n",
    "            \"text\": post.get(\"cooked\", \"\"),\n",
    "            \"title\": topic_details.get(\"title\", \"\"),\n",
    "            \"author\": post.get(\"username\", \"\"),\n",
    "            \"tags\": topic_details.get(\"tags\", []),\n",
    "            \"category\": category_name,  # Include category name\n",
    "            \"topic_id\": topic_details.get(\"id\"),  # Include topic ID\n",
    "            \"url\": f\"{base_url}/t/{topic_details.get('id')}/{post.get('post_number')}\"\n",
    "        }\n",
    "        # Find responses to this post\n",
    "        responses = [response for response in posts if response.get(\"reply_to_post_number\") == post.get(\"post_number\")]\n",
    "        post_data[\"responses\"] = [{\n",
    "            \"text\": response.get(\"cooked\", \"\"),\n",
    "            \"author\": response.get(\"username\", \"\")\n",
    "        } for response in responses]\n",
    "        posts_data.append(post_data)\n",
    "    return posts_data\n"
   ]
  },
  {
   "cell_type": "code",
   "execution_count": 9,
   "id": "db825a85-fc07-4d4d-a186-df1cc8fa8708",
   "metadata": {},
   "outputs": [],
   "source": [
    "def ingest_data(base_url):\n",
    "    categories = fetch_categories(base_url)\n",
    "    all_posts_data = []\n",
    "    for category in categories:\n",
    "        category_slug = category.get('slug')\n",
    "        category_name = category.get('name')\n",
    "        topics = fetch_topics(base_url, category_slug)\n",
    "        for topic in topics:\n",
    "            topic_id = topic.get('id')\n",
    "            topic_details = fetch_topic_details(base_url, topic_id)\n",
    "            if topic_details:\n",
    "                posts_data = organize_post_data(base_url, topic_details, category_name)\n",
    "                all_posts_data.extend(posts_data)\n",
    "    return all_posts_data\n"
   ]
  },
  {
   "cell_type": "code",
   "execution_count": 10,
   "id": "d73d3e28-44b4-4bcc-8bd1-5203ef5f2d44",
   "metadata": {},
   "outputs": [],
   "source": [
    "arb_base_url = \"https://forum.arbitrum.foundation\""
   ]
  },
  {
   "cell_type": "code",
   "execution_count": 11,
   "id": "aa0f70bf-8dcb-4e05-b8fd-b129bc394fa9",
   "metadata": {},
   "outputs": [],
   "source": [
    "data = ingest_data(arb_base_url)"
   ]
  },
  {
   "cell_type": "code",
   "execution_count": 34,
   "id": "28b0202f-e86b-427c-bb83-da7b666a3c7c",
   "metadata": {},
   "outputs": [
    {
     "name": "stdout",
     "output_type": "stream",
     "text": [
      "{'text': '<p>R&amp;D is important for Arbitrum DAO and will have many benefits in the long term, but it is important to look at the ROI on the investment made and priority. The ARB proposed are at a relatively higher side and also it may bring lot of negative energy and power in the hands of few. I would love to see the clear framework with accountabilities to decide on.</p>', 'title': \"Proposal [Non-Constitutional]: Establish the 'Arbitrum Research & Development Collective'\", 'author': 'bubli.eth', 'tags': [], 'category': 'Proposals', 'topic_id': 19899, 'url': 'https://forum.arbitrum.foundation/t/19899/7', 'responses': [{'text': '<p>Hey <a class=\"mention\" href=\"/u/bubli.eth\">@bubli.eth</a> ,</p>\\n<p>The proposal contains several legally enforceable checks &amp; balances together with several powers attributed to the DAOAdvocate (the only member seat that has legally enforceable powers), re. the regulation of the ARDC (Refer to sections on checks and balances, provisions, operational parameters etc.)</p>', 'author': 'Immutablelawyer'}]}\n"
     ]
    }
   ],
   "source": [
    "print(data[420])"
   ]
  },
  {
   "cell_type": "code",
   "execution_count": 33,
   "id": "760b4995-a195-447f-b9fd-fb97b3495984",
   "metadata": {},
   "outputs": [
    {
     "name": "stdout",
     "output_type": "stream",
     "text": [
      "6125\n"
     ]
    }
   ],
   "source": [
    "print(len(data))"
   ]
  },
  {
   "cell_type": "code",
   "execution_count": 32,
   "id": "1596366e-854d-4467-ab53-b0972516a1f0",
   "metadata": {},
   "outputs": [],
   "source": [
    "posts_json = {\"posts\": data}\n",
    "posts_json_string = json.dumps(posts_json, indent=4)\n",
    "\n",
    "with open('data/all_arb_forum_posts.json', 'w') as file:\n",
    "    json.dump(posts_json_string, file, indent=4)\n",
    "\n"
   ]
  }
 ],
 "metadata": {
  "kernelspec": {
   "display_name": "Python 3 (ipykernel)",
   "language": "python",
   "name": "python3"
  },
  "language_info": {
   "codemirror_mode": {
    "name": "ipython",
    "version": 3
   },
   "file_extension": ".py",
   "mimetype": "text/x-python",
   "name": "python",
   "nbconvert_exporter": "python",
   "pygments_lexer": "ipython3",
   "version": "3.10.0"
  }
 },
 "nbformat": 4,
 "nbformat_minor": 5
}
