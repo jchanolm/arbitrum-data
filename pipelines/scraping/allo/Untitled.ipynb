{
 "cells": [
  {
   "cell_type": "code",
   "execution_count": 4,
   "id": "327140f2-9826-4638-bd8b-17564709bc9e",
   "metadata": {},
   "outputs": [],
   "source": [
    "import logging \n",
    "import time\n",
    "import os \n",
    "import requests as requests\n",
    "import json"
   ]
  },
  {
   "cell_type": "code",
   "execution_count": 5,
   "id": "456d857f-c516-481e-836d-621ae90ab025",
   "metadata": {},
   "outputs": [],
   "source": [
    "allo_subgraph_url = \"\"\"https://api.thegraph.com/subgraphs/name/gitcoinco/gitcoin-grants-arbitrum-one/graphql\"\"\"\n",
    "headers = {\n",
    "            'Content-Type': 'application/json'\n",
    "        }"
   ]
  },
  {
   "cell_type": "code",
   "execution_count": 14,
   "id": "4ba15080-1324-4154-9b5a-3ba6fa5a7e7e",
   "metadata": {},
   "outputs": [],
   "source": [
    "    def send_api_request(query, variables=None, retry_count=0):\n",
    "        max_retries = 0  # Adjusted max_retries to allow for retries\n",
    "        while retry_count <= max_retries:\n",
    "            try:\n",
    "                payload = {\"query\": query, \"variables\": variables}  # Include variables in the payload\n",
    "                response = requests.get(base_api_endpoint, json=payload)\n",
    "                response.raise_for_status()  # Raises exception for 4XX or 5XX errors\n",
    "                data = response.json()\n",
    "                if \"errors\" in data:\n",
    "                    error_message = json.dumps(data['errors'], indent=4)  # Formatting the error for better readability\n",
    "                    raise Exception(f\"API response error: {error_message}\")\n",
    "                return data[\"data\"]\n",
    "            except requests.RequestException as e:\n",
    "                logging.error(f\"Request error: {e}, Response: {e.response.text}\")\n",
    "                time.sleep(2 ** retry_count)  # Implementing exponential backoff\n",
    "                retry_count += 1\n",
    "                if retry_count > max_retries:\n",
    "                    logging.error(\"Max retries exceeded. Giving up.\")\n",
    "                    return None\n",
    "            except Exception as e:\n",
    "                logging.error(f\"Unhandled exception: {e}\")\n",
    "                return None\n"
   ]
  },
  {
   "cell_type": "code",
   "execution_count": 15,
   "id": "ae2189d6-aab3-47b0-98c0-410445e7b1f3",
   "metadata": {},
   "outputs": [],
   "source": [
    "        query = \"\"\"\n",
    "        {\n",
    "            metaPtrs(first: 1000) {\n",
    "            protocol\n",
    "            id\n",
    "            pointer\n",
    "        }\n",
    "    }\n",
    "        \"\"\"\n"
   ]
  },
  {
   "cell_type": "code",
   "execution_count": 16,
   "id": "e874ce64-8ee8-4b3e-b819-d1b775e010d0",
   "metadata": {},
   "outputs": [
    {
     "name": "stderr",
     "output_type": "stream",
     "text": [
      "ERROR:root:Unhandled exception: name 'base_api_endpoint' is not defined\n"
     ]
    }
   ],
   "source": [
    "send_api_request(query)"
   ]
  }
 ],
 "metadata": {
  "kernelspec": {
   "display_name": "Python 3 (ipykernel)",
   "language": "python",
   "name": "python3"
  },
  "language_info": {
   "codemirror_mode": {
    "name": "ipython",
    "version": 3
   },
   "file_extension": ".py",
   "mimetype": "text/x-python",
   "name": "python",
   "nbconvert_exporter": "python",
   "pygments_lexer": "ipython3",
   "version": "3.10.0"
  }
 },
 "nbformat": 4,
 "nbformat_minor": 5
}
